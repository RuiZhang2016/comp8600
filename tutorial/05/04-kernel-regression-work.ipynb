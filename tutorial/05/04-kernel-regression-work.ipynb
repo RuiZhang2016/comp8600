{
 "cells": [
  {
   "cell_type": "markdown",
   "metadata": {},
   "source": [
    "# Kernel Methods"
   ]
  },
  {
   "cell_type": "markdown",
   "metadata": {},
   "source": [
    "###### COMP4670/8600 - Introduction to Statistical Machine Learning - Tutorial 4"
   ]
  },
  {
   "cell_type": "markdown",
   "metadata": {},
   "source": [
    "## Discussion\n",
    "\n",
    "Get into groups of two or three and take turns explaining the following (about 2 minutes each):\n",
    "- regression vs classification\n",
    "- Fisher's discriminant\n",
    "- generative vs discriminative probabilistic methods\n",
    "- logistic regression\n",
    "- support vector machines\n",
    "- basis functions vs kernels"
   ]
  },
  {
   "cell_type": "markdown",
   "metadata": {},
   "source": [
    "$\\newcommand{\\RR}{\\mathbb{R}}$\n",
    "$\\newcommand{\\dotprod}[2]{\\langle #1, #2 \\rangle}$\n",
    "\n",
    "Setting up the environment"
   ]
  },
  {
   "cell_type": "code",
   "execution_count": 2,
   "metadata": {
    "collapsed": false
   },
   "outputs": [],
   "source": [
    "import matplotlib.pyplot as plt\n",
    "import numpy as np\n",
    "import pandas as pd\n",
    "\n",
    "%matplotlib inline"
   ]
  },
  {
   "cell_type": "markdown",
   "metadata": {},
   "source": [
    "## The data set\n",
    "\n",
    "This is the same dataset we used in Tutorial 2.\n",
    "\n",
    "*We will use an old dataset on the price of housing in Boston (see [description](https://archive.ics.uci.edu/ml/datasets/Housing)). The aim is to predict the median value of the owner occupied homes from various other factors. We will use a normalised version of this data, where each row is an example. The median value of homes is given in the first column (the label) and the value of each subsequent feature has been normalised to be in the range $[-1,1]$. Download this dataset from [mldata.org](http://mldata.org/repository/data/download/csv/housing_scale/).*\n",
    "\n",
    "Read in the data using pandas. Remove the column containing the binary variable 'CHAS' using ```drop```, which should give you a DataFrame with 506 rows (examples) and 13 columns (1 label and 12 features)."
   ]
  },
  {
   "cell_type": "code",
   "execution_count": 15,
   "metadata": {
    "collapsed": false
   },
   "outputs": [
    {
     "name": "stdout",
     "output_type": "stream",
     "text": [
      "<bound method NDFrame.head of      medv      crim    zn     indus       nox        rm       age       dis  \\\n",
      "0      24 -1.000000 -0.64 -0.864370 -0.370370  0.155011  0.283213 -0.461594   \n",
      "1      21 -0.999528 -1.00 -0.515396 -0.654321  0.095995  0.565396 -0.302076   \n",
      "2      34 -0.999529 -1.00 -0.515396 -0.654321  0.388772  0.198764 -0.302076   \n",
      "3      33 -0.999414 -1.00 -0.873900 -0.699588  0.317111 -0.116375 -0.102911   \n",
      "4      36 -0.998590 -1.00 -0.873900 -0.699588  0.374210  0.056643 -0.102911   \n",
      "5      28 -0.999471 -1.00 -0.873900 -0.699588  0.099444  0.149331 -0.102911   \n",
      "6      22 -0.998157 -0.75 -0.456745 -0.427984 -0.060740  0.312049 -0.194155   \n",
      "7      27 -0.996893 -0.75 -0.456745 -0.427984  0.000575  0.919670 -0.123226   \n",
      "8      16 -0.995393 -0.75 -0.456745 -0.427984 -0.206745  1.000000 -0.099292   \n",
      "9      18 -0.996320 -0.75 -0.456745 -0.427984 -0.063805  0.709578 -0.006538   \n",
      "10     15 -0.995087 -0.75 -0.456745 -0.427984  0.079134  0.882595 -0.051169   \n",
      "11     18 -0.997501 -0.75 -0.456745 -0.427984 -0.061889  0.647786 -0.072993   \n",
      "12     21 -0.998034 -0.75 -0.456745 -0.427984 -0.107875 -0.256437 -0.214088   \n",
      "13     20 -0.985985 -1.00 -0.436950 -0.370370 -0.084882  0.213182 -0.349289   \n",
      "14     18 -0.985801 -1.00 -0.436950 -0.370370 -0.028550  0.680742 -0.393956   \n",
      "15     19 -0.986039 -1.00 -0.436950 -0.370370 -0.128952  0.104016 -0.387282   \n",
      "16     23 -0.976450 -1.00 -0.436950 -0.370370 -0.090247 -0.456231 -0.387282   \n",
      "17     17 -0.982514 -1.00 -0.436950 -0.370370 -0.069170  0.623069 -0.431058   \n",
      "18     20 -0.982098 -1.00 -0.436950 -0.370370 -0.273807 -0.305870 -0.514972   \n",
      "19     18 -0.983826 -1.00 -0.436950 -0.370370 -0.169956  0.371782 -0.514972   \n",
      "20     13 -0.972002 -1.00 -0.436950 -0.370370 -0.230121  0.960865 -0.514718   \n",
      "21     19 -0.980989 -1.00 -0.436950 -0.370370 -0.078751  0.777549 -0.475725   \n",
      "22     15 -0.972437 -1.00 -0.436950 -0.370370 -0.010922  0.829042 -0.482163   \n",
      "23     14 -0.977923 -1.00 -0.436950 -0.370370 -0.136999  1.000000 -0.460648   \n",
      "24     15 -0.983277 -1.00 -0.436950 -0.370370 -0.094463  0.878476 -0.405287   \n",
      "25     13 -0.981247 -1.00 -0.436950 -0.370370 -0.219007  0.705458 -0.395284   \n",
      "26     16 -0.985038 -1.00 -0.436950 -0.370370 -0.136999  0.800206 -0.353927   \n",
      "27     14 -0.978657 -1.00 -0.436950 -0.370370 -0.047327  0.769310 -0.395502   \n",
      "28     18 -0.982766 -1.00 -0.436950 -0.370370  0.124353  0.884655 -0.395266   \n",
      "29     21 -0.977607 -1.00 -0.436950 -0.370370  0.192949  0.738414 -0.434495   \n",
      "..    ...       ...   ...       ...       ...       ...       ...       ...   \n",
      "476    16 -0.890635 -1.00  0.293255 -0.057613  0.120138  0.868177 -0.786176   \n",
      "477    12 -0.662423 -1.00  0.293255 -0.057613 -0.332056  0.944387 -0.823387   \n",
      "478    14 -0.770109 -1.00  0.293255 -0.057613  0.005557  0.932029 -0.810692   \n",
      "479    21 -0.677927 -1.00  0.293255 -0.057613  0.022418  0.752832 -0.850576   \n",
      "480    23 -0.869221 -1.00  0.293255 -0.395062  0.027400  0.272915 -0.582682   \n",
      "481    23 -0.871825 -1.00  0.293255 -0.395062  0.222073  0.483007 -0.599505   \n",
      "482    25 -0.871308 -1.00  0.293255 -0.395062  0.341253  0.526262 -0.585156   \n",
      "483    21 -0.936786 -1.00  0.293255 -0.395062 -0.156543 -0.229660 -0.460084   \n",
      "484    20 -0.946673 -1.00  0.293255 -0.185185 -0.114773 -0.196704 -0.528158   \n",
      "485    21 -0.917560 -1.00  0.293255 -0.185185  0.054225  0.009269 -0.479471   \n",
      "486    19 -0.872194 -1.00  0.293255 -0.185185 -0.021652  0.583934 -0.560549   \n",
      "487    20 -0.891439 -1.00  0.293255 -0.185185 -0.101744  0.036045 -0.632133   \n",
      "488    15 -0.996751 -1.00  1.000000 -0.078189 -0.274574  0.849640 -0.874274   \n",
      "489     7 -0.996020 -1.00  1.000000 -0.078189 -0.289902  0.964985 -0.886186   \n",
      "490     8 -0.995478 -1.00  1.000000 -0.078189 -0.412914  0.958805 -0.873964   \n",
      "491    13 -0.997765 -1.00  1.000000 -0.078189 -0.071853  0.975283 -0.865689   \n",
      "492    20 -0.997640 -1.00  1.000000 -0.078189 -0.071853  0.660144 -0.821713   \n",
      "493    21 -0.996246 -1.00 -0.323314 -0.176955 -0.177620  0.052523 -0.772281   \n",
      "494    24 -0.993857 -1.00 -0.323314 -0.176955 -0.093696 -0.182286 -0.772281   \n",
      "495    23 -0.996118 -1.00 -0.323314 -0.176955 -0.191799 -0.466529 -0.696460   \n",
      "496    19 -0.993632 -1.00 -0.323314 -0.176955 -0.299099  0.441813 -0.696460   \n",
      "497    18 -0.994109 -1.00 -0.323314 -0.176955 -0.144281  0.394439 -0.679346   \n",
      "498    21 -0.994767 -1.00 -0.323314 -0.176955 -0.058057  0.285273 -0.767298   \n",
      "499    17 -0.996145 -1.00 -0.323314 -0.176955 -0.230504  0.454171 -0.768971   \n",
      "500    16 -0.995098 -1.00 -0.323314 -0.176955 -0.054991  0.581874 -0.751093   \n",
      "501    22 -0.998734 -1.00 -0.159091 -0.226337  0.161908  0.363543 -0.754658   \n",
      "502    20 -0.999124 -1.00 -0.159091 -0.226337 -0.019352  0.520082 -0.789413   \n",
      "503    23 -0.998776 -1.00 -0.159091 -0.226337  0.308680  0.814624 -0.811238   \n",
      "504    22 -0.997679 -1.00 -0.159091 -0.226337  0.238935  0.779609 -0.770972   \n",
      "505    11 -0.999076 -1.00 -0.159091 -0.226337 -0.053842  0.604531 -0.749857   \n",
      "\n",
      "          rad       tax   ptratio         b     lstat  \n",
      "0   -1.000000 -0.583969 -0.425532  1.000000 -0.820640  \n",
      "1   -0.913043 -0.790076  0.106383  1.000000 -0.591060  \n",
      "2   -0.913043 -0.790076  0.106383  0.979475 -0.873068  \n",
      "3   -0.826087 -0.866412  0.297872  0.988552 -0.933223  \n",
      "4   -0.826087 -0.866412  0.297872  1.000000 -0.801325  \n",
      "5   -0.826087 -0.866412  0.297872  0.985980 -0.807947  \n",
      "6   -0.652174 -0.526718 -0.446809  0.993444 -0.409492  \n",
      "7   -0.652174 -0.526718 -0.446809  1.000000 -0.038631  \n",
      "8   -0.652174 -0.526718 -0.446809  0.948207  0.556291  \n",
      "9   -0.652174 -0.526718 -0.446809  0.948611 -0.151766  \n",
      "10  -0.652174 -0.526718 -0.446809  0.977911  0.033113  \n",
      "11  -0.652174 -0.526718 -0.446809  1.000000 -0.363135  \n",
      "12  -0.652174 -0.526718 -0.446809  0.967724 -0.228477  \n",
      "13  -0.739130 -0.541985  0.787234  1.000000 -0.639625  \n",
      "14  -0.739130 -0.541985  0.787234  0.914872 -0.529249  \n",
      "15  -0.739130 -0.541985  0.787234  0.993545 -0.628035  \n",
      "16  -0.739130 -0.541985  0.787234  0.949317 -0.732340  \n",
      "17  -0.739130 -0.541985  0.787234  0.948812 -0.285872  \n",
      "18  -0.739130 -0.541985  0.787234  0.455797 -0.450331  \n",
      "19  -0.739130 -0.541985  0.787234  0.969993 -0.472958  \n",
      "20  -0.739130 -0.541985  0.787234  0.897473  0.064570  \n",
      "21  -0.739130 -0.541985  0.787234  0.977962 -0.332230  \n",
      "22  -0.739130 -0.541985  0.787234  1.000000 -0.062362  \n",
      "23  -0.739130 -0.541985  0.787234  0.988098  0.001656  \n",
      "24  -0.739130 -0.541985  0.787234  0.987039 -0.195916  \n",
      "25  -0.739130 -0.541985  0.787234  0.528569 -0.184327  \n",
      "26  -0.739130 -0.541985  0.787234  0.899037 -0.278146  \n",
      "27  -0.739130 -0.541985  0.787234  0.543497 -0.141832  \n",
      "28  -0.739130 -0.541985  0.787234  0.954814 -0.389073  \n",
      "29  -0.739130 -0.541985  0.787234  0.915931 -0.434327  \n",
      "..        ...       ...       ...       ...       ...  \n",
      "476  1.000000  0.828244  0.617021  0.996520 -0.064570  \n",
      "477  1.000000  0.828244  0.617021  0.760855  0.279249  \n",
      "478  1.000000  0.828244  0.617021  0.913258 -0.100442  \n",
      "479  1.000000  0.828244  0.617021  0.931514 -0.371965  \n",
      "480  1.000000  0.828244  0.617021  1.000000 -0.502759  \n",
      "481  1.000000  0.828244  0.617021  0.980685 -0.668322  \n",
      "482  1.000000  0.828244  0.617021  0.991830 -0.708609  \n",
      "483  1.000000  0.828244  0.617021  0.979928 -0.520419  \n",
      "484  1.000000  0.828244  0.617021  0.868022 -0.359272  \n",
      "485  1.000000  0.828244  0.617021  0.958243 -0.511589  \n",
      "486  1.000000  0.828244  0.617021  0.978718 -0.268764  \n",
      "487  1.000000  0.828244  0.617021  0.956226 -0.463576  \n",
      "488 -0.739130  1.000000  0.595745  0.990872 -0.098786  \n",
      "489 -0.739130  1.000000  0.595745  0.733471  0.227373  \n",
      "490 -0.739130  1.000000  0.595745  0.604266  0.542494  \n",
      "491 -0.739130  1.000000  0.595745  0.965757 -0.098234  \n",
      "492 -0.739130  1.000000  0.595745  1.000000 -0.358720  \n",
      "493 -0.565217 -0.221374  0.404255  1.000000 -0.432671  \n",
      "494 -0.565217 -0.221374  0.404255  1.000000 -0.345475  \n",
      "495 -0.565217 -0.221374  0.404255  0.981794 -0.124172  \n",
      "496 -0.565217 -0.221374  0.404255  1.000000  0.071192  \n",
      "497 -0.565217 -0.221374  0.404255  1.000000 -0.317329  \n",
      "498 -0.565217 -0.221374  0.404255  1.000000 -0.382450  \n",
      "499 -0.565217 -0.221374  0.404255  0.994301 -0.262141  \n",
      "500 -0.565217 -0.221374  0.404255  1.000000 -0.304636  \n",
      "501 -1.000000 -0.671756  0.787234  0.975238 -0.561810  \n",
      "502 -1.000000 -0.671756  0.787234  1.000000 -0.594371  \n",
      "503 -1.000000 -0.671756  0.787234  1.000000 -0.784216  \n",
      "504 -1.000000 -0.671756  0.787234  0.982601 -0.737859  \n",
      "505 -1.000000 -0.671756  0.787234  1.000000 -0.660596  \n",
      "\n",
      "[506 rows x 13 columns]>\n"
     ]
    }
   ],
   "source": [
    "names = ['medv', 'crim', 'zn', 'indus', 'chas', 'nox', 'rm', 'age', 'dis', 'rad', 'tax', 'ptratio', 'b', 'lstat']\n",
    "data = pd.read_csv('housing_scale.csv', header=None, names=names)\n",
    "data.head()\n",
    "data.drop('chas', axis=1, inplace=True)\n",
    "data.shape"
   ]
  },
  {
   "cell_type": "markdown",
   "metadata": {},
   "source": [
    "## Constructing new kernels\n",
    "\n",
    "In the lectures, we saw that certain operations on kernels preserve positive semidefiniteness. Recall that a symmetric matrix $K\\in \\RR^n \\times\\RR^n$ is positive semidefinite if for all vectors $a\\in\\RR^n$ we have the inequality\n",
    "$$\n",
    "a^T K a \\geqslant 0.\n",
    "$$\n",
    "\n",
    "Prove the following relations:\n",
    "1. Given positive semidefinite matrices $K_1$, $K_2$, show that $K_1 + K_2$ is a valid kernel.\n",
    "2. Given a positive semidefinite matrix $K$, show that $K^2 = K\\cdot K$ is a valid kernel, where the multiplication is a pointwise multiplication (not matrix multiplication)."
   ]
  },
  {
   "cell_type": "markdown",
   "metadata": {},
   "source": [
    "### Solution description"
   ]
  },
  {
   "cell_type": "markdown",
   "metadata": {},
   "source": [
    "## Polynomial kernel using closure\n",
    "\n",
    "Using the properties proven above, show that the inhomogenous polynomial kernel of degree 2\n",
    "$$k(x,y) = (\\dotprod{x}{y} + 1)^2$$\n",
    "is positive semidefinite."
   ]
  },
  {
   "cell_type": "markdown",
   "metadata": {},
   "source": [
    "### Solution description"
   ]
  },
  {
   "cell_type": "markdown",
   "metadata": {},
   "source": [
    "## Empirical comparison\n",
    "\n",
    "Recall from Tutorial 2 that we could explicitly construct the polynomial basis function. In fact this demonstrates the relation\n",
    "$$\n",
    "k(x,y) = (\\dotprod{x}{y} + 1)^2 = \\dotprod{\\phi(x)}{\\phi(y)}.\n",
    "$$\n",
    "where\n",
    "$$\n",
    "\\phi(x) = (x_1^2, x_2^2, \\ldots, x_n^2, \\sqrt{2}x_1 x_2, \\ldots, \\sqrt{2}x_{n-1} x_n, \\sqrt{2}x_1, \\ldots, \\sqrt{2}x_n, 1)\n",
    "$$\n",
    "*This is sometimes referred to as an explicit feature map or the primal version of a kernel method.*\n",
    "\n",
    "For the data above, construct two kernel matrices, one using the explicit feature map and the second using the equation for the polynomial kernel. Confirm that they are the same."
   ]
  },
  {
   "cell_type": "code",
   "execution_count": 45,
   "metadata": {
    "collapsed": false
   },
   "outputs": [
    {
     "data": {
      "text/plain": [
       "array([[  5.82076609e-11,   8.73114914e-11,   1.16415322e-10, ...,\n",
       "          0.00000000e+00,  -5.82076609e-11,   0.00000000e+00],\n",
       "       [  8.73114914e-11,   2.91038305e-11,   0.00000000e+00, ...,\n",
       "          1.16415322e-10,   5.82076609e-11,   1.45519152e-11],\n",
       "       [  1.16415322e-10,   0.00000000e+00,  -2.32830644e-10, ...,\n",
       "          0.00000000e+00,   0.00000000e+00,   2.91038305e-11],\n",
       "       ..., \n",
       "       [  0.00000000e+00,   1.16415322e-10,   0.00000000e+00, ...,\n",
       "          2.32830644e-10,  -1.16415322e-10,   7.27595761e-11],\n",
       "       [ -5.82076609e-11,   5.82076609e-11,   0.00000000e+00, ...,\n",
       "         -1.16415322e-10,  -8.73114914e-11,  -7.27595761e-12],\n",
       "       [  0.00000000e+00,   1.45519152e-11,   2.91038305e-11, ...,\n",
       "          7.27595761e-11,  -7.27595761e-12,  -3.63797881e-12]])"
      ]
     },
     "execution_count": 45,
     "metadata": {},
     "output_type": "execute_result"
    }
   ],
   "source": [
    "# Solution goes here\n",
    "\n",
    "def phi(x):\n",
    "    D = len(x)\n",
    "    tmp = np.outer(x, x)*2**0.5\n",
    "    for i in range(D):\n",
    "        tmp[i,i] = tmp[i,i]/2**0.5\n",
    "    return np.hstack((1,x*2**0.5,tmp[np.triu_indices(D)]))\n",
    "\n",
    "def kernel_matrices_EFM(data):\n",
    "    n = data.shape[0]\n",
    "    Phi = np.array([ phi(data.iloc[i]) for i in range(n)])\n",
    "    K = np.array([Phi[i,:].dot(Phi.T) for i in range(n)])\n",
    "    return(K)\n",
    "\n",
    "def kernel_polynomial(data):\n",
    "    data = data.as_matrix()\n",
    "    tmp = data.dot(data.T)+1\n",
    "    return(tmp**2)\n",
    "\n",
    "K  = kernel_matrices_EFM(data)\n",
    "K.shape\n",
    "\n",
    "K2 = kernel_polynomial(data)\n",
    "K2-K"
   ]
  },
  {
   "cell_type": "markdown",
   "metadata": {},
   "source": [
    "There are pros and cons for each method of computing the kernel matrix. Discuss."
   ]
  },
  {
   "cell_type": "markdown",
   "metadata": {},
   "source": [
    "### Solution description"
   ]
  },
  {
   "cell_type": "markdown",
   "metadata": {},
   "source": [
    "## Regularized least squares with kernels\n",
    "\n",
    "This section is analogous to the part in Tutorial 2 about regularized least squares.\n",
    "\n",
    "State carefully the cost function and the regulariser, defining all symbols, show that the regularized least squares solution can be expressed as in Lecture 5 and Lecture 9.\n",
    "$$\n",
    "w = \\left( \\lambda \\mathbf{I} + \\Phi^T \\Phi\\right)^{-1} \\Phi t\n",
    "$$\n",
    "Please describe the reason for each step."
   ]
  },
  {
   "cell_type": "markdown",
   "metadata": {},
   "source": [
    "### Solution description"
   ]
  },
  {
   "cell_type": "markdown",
   "metadata": {},
   "source": [
    "By substituting $w = \\Phi^T a$, derive the regularized least squares method in terms of the kernel matrix $K$."
   ]
  },
  {
   "cell_type": "markdown",
   "metadata": {},
   "source": [
    "### Solution description"
   ]
  },
  {
   "cell_type": "markdown",
   "metadata": {},
   "source": [
    "## Comparing solutions in $a$ and $\\mathbf{w}$\n",
    "\n",
    "Implement the kernelized regularized least squares as above. \n",
    "*This is often referred to as the dual version of the kernel method.*\n",
    "\n",
    "Compare this with the solution from Tutorial 2. Implement two classes:\n",
    "* ```RLSPrimal```\n",
    "* ```RLSDual```\n",
    "\n",
    "each which contain a ```train``` and ```predict``` function.\n",
    "\n",
    "Think carefully about the interfaces to the training and test procedures for the two different versions of regularized least squares. Also think about the parameters that need to be stored in the class."
   ]
  },
  {
   "cell_type": "code",
   "execution_count": null,
   "metadata": {
    "collapsed": false
   },
   "outputs": [],
   "source": [
    "# Solution goes here"
   ]
  },
  {
   "cell_type": "markdown",
   "metadata": {},
   "source": [
    "## (optional) General kernel\n",
    "\n",
    "Consider how you would generalise the two classes above if you wanted to have a polynomial kernel of degree 3. For the primal version, assume you have a function that returns the explicit feature map for the kernel ```feature_map(X)``` and for the dual version assume you have a function that returns the kernel matrix ```kernel_matrix(X)```."
   ]
  },
  {
   "cell_type": "code",
   "execution_count": null,
   "metadata": {
    "collapsed": false
   },
   "outputs": [],
   "source": []
  }
 ],
 "metadata": {
  "kernelspec": {
   "display_name": "Python 3",
   "language": "python",
   "name": "python3"
  },
  "language_info": {
   "codemirror_mode": {
    "name": "ipython",
    "version": 3
   },
   "file_extension": ".py",
   "mimetype": "text/x-python",
   "name": "python",
   "nbconvert_exporter": "python",
   "pygments_lexer": "ipython3",
   "version": "3.6.0"
  }
 },
 "nbformat": 4,
 "nbformat_minor": 0
}
