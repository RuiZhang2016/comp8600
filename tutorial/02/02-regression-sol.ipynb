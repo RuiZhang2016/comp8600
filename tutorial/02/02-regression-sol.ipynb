{
 "cells": [
  {
   "cell_type": "markdown",
   "metadata": {},
   "source": [
    "# Regression"
   ]
  },
  {
   "cell_type": "markdown",
   "metadata": {},
   "source": [
    "###### COMP4670/8600 - Introduction to Statistical Machine Learning - Tutorial 2"
   ]
  },
  {
   "cell_type": "markdown",
   "metadata": {},
   "source": [
    "$\\newcommand{\\trace}[1]{\\operatorname{tr}\\left\\{#1\\right\\}}$\n",
    "$\\newcommand{\\Norm}[1]{\\lVert#1\\rVert}$\n",
    "$\\newcommand{\\RR}{\\mathbb{R}}$\n",
    "$\\newcommand{\\inner}[2]{\\langle #1, #2 \\rangle}$\n",
    "$\\newcommand{\\DD}{\\mathscr{D}}$\n",
    "$\\newcommand{\\grad}[1]{\\operatorname{grad}#1}$\n",
    "$\\DeclareMathOperator*{\\argmin}{arg\\,min}$\n",
    "\n",
    "Setting up the environment"
   ]
  },
  {
   "cell_type": "code",
   "execution_count": 1,
   "metadata": {
    "collapsed": false
   },
   "outputs": [],
   "source": [
    "import matplotlib.pyplot as plt\n",
    "import numpy as np\n",
    "import pandas as pd\n",
    "\n",
    "%matplotlib inline"
   ]
  },
  {
   "cell_type": "markdown",
   "metadata": {},
   "source": [
    "## The data set\n",
    "\n",
    "We will use an old dataset on the price of housing in Boston (see [description](https://archive.ics.uci.edu/ml/datasets/Housing)). The aim is to predict the median value of the owner occupied homes from various other factors. We will use a normalised version of this data, where each row is an example. The median value of homes is given in the first column (the label) and the value of each subsequent feature has been normalised to be in the range $[-1,1]$. Download this dataset from [mldata.org](http://mldata.org/repository/data/download/csv/housing_scale/).\n",
    "\n",
    "Read in the data using pandas. The following concepts and routines could be useful (note that you may not need all of them):\n",
    "* [read_csv](http://pandas.pydata.org/pandas-docs/stable/io.html#io-read-csv-table) - use options header and names\n",
    "* [Indexing and Selecting](http://pandas.pydata.org/pandas-docs/stable/indexing.html)\n",
    "\n",
    "Check that the data is as expected using ```head()```. Remove the column containing the binary variable 'CHAS' using ```drop```, which should give you a DataFrame with 506 rows (examples) and 13 columns (1 label and 12 features)."
   ]
  },
  {
   "cell_type": "code",
   "execution_count": 2,
   "metadata": {
    "collapsed": false
   },
   "outputs": [
    {
     "data": {
      "text/html": [
       "<div>\n",
       "<table border=\"1\" class=\"dataframe\">\n",
       "  <thead>\n",
       "    <tr style=\"text-align: right;\">\n",
       "      <th></th>\n",
       "      <th>medv</th>\n",
       "      <th>crim</th>\n",
       "      <th>zn</th>\n",
       "      <th>indus</th>\n",
       "      <th>chas</th>\n",
       "      <th>nox</th>\n",
       "      <th>rm</th>\n",
       "      <th>age</th>\n",
       "      <th>dis</th>\n",
       "      <th>rad</th>\n",
       "      <th>tax</th>\n",
       "      <th>ptratio</th>\n",
       "      <th>b</th>\n",
       "      <th>lstat</th>\n",
       "    </tr>\n",
       "  </thead>\n",
       "  <tbody>\n",
       "    <tr>\n",
       "      <th>0</th>\n",
       "      <td>24</td>\n",
       "      <td>-1.000000</td>\n",
       "      <td>-0.64</td>\n",
       "      <td>-0.864370</td>\n",
       "      <td>-1.0</td>\n",
       "      <td>-0.370370</td>\n",
       "      <td>0.155011</td>\n",
       "      <td>0.283213</td>\n",
       "      <td>-0.461594</td>\n",
       "      <td>-1.000000</td>\n",
       "      <td>-0.583969</td>\n",
       "      <td>-0.425532</td>\n",
       "      <td>1.000000</td>\n",
       "      <td>-0.820640</td>\n",
       "    </tr>\n",
       "    <tr>\n",
       "      <th>1</th>\n",
       "      <td>21</td>\n",
       "      <td>-0.999528</td>\n",
       "      <td>-1.00</td>\n",
       "      <td>-0.515396</td>\n",
       "      <td>-1.0</td>\n",
       "      <td>-0.654321</td>\n",
       "      <td>0.095995</td>\n",
       "      <td>0.565396</td>\n",
       "      <td>-0.302076</td>\n",
       "      <td>-0.913043</td>\n",
       "      <td>-0.790076</td>\n",
       "      <td>0.106383</td>\n",
       "      <td>1.000000</td>\n",
       "      <td>-0.591060</td>\n",
       "    </tr>\n",
       "    <tr>\n",
       "      <th>2</th>\n",
       "      <td>34</td>\n",
       "      <td>-0.999529</td>\n",
       "      <td>-1.00</td>\n",
       "      <td>-0.515396</td>\n",
       "      <td>-1.0</td>\n",
       "      <td>-0.654321</td>\n",
       "      <td>0.388772</td>\n",
       "      <td>0.198764</td>\n",
       "      <td>-0.302076</td>\n",
       "      <td>-0.913043</td>\n",
       "      <td>-0.790076</td>\n",
       "      <td>0.106383</td>\n",
       "      <td>0.979475</td>\n",
       "      <td>-0.873068</td>\n",
       "    </tr>\n",
       "    <tr>\n",
       "      <th>3</th>\n",
       "      <td>33</td>\n",
       "      <td>-0.999414</td>\n",
       "      <td>-1.00</td>\n",
       "      <td>-0.873900</td>\n",
       "      <td>-1.0</td>\n",
       "      <td>-0.699588</td>\n",
       "      <td>0.317111</td>\n",
       "      <td>-0.116375</td>\n",
       "      <td>-0.102911</td>\n",
       "      <td>-0.826087</td>\n",
       "      <td>-0.866412</td>\n",
       "      <td>0.297872</td>\n",
       "      <td>0.988552</td>\n",
       "      <td>-0.933223</td>\n",
       "    </tr>\n",
       "    <tr>\n",
       "      <th>4</th>\n",
       "      <td>36</td>\n",
       "      <td>-0.998590</td>\n",
       "      <td>-1.00</td>\n",
       "      <td>-0.873900</td>\n",
       "      <td>-1.0</td>\n",
       "      <td>-0.699588</td>\n",
       "      <td>0.374210</td>\n",
       "      <td>0.056643</td>\n",
       "      <td>-0.102911</td>\n",
       "      <td>-0.826087</td>\n",
       "      <td>-0.866412</td>\n",
       "      <td>0.297872</td>\n",
       "      <td>1.000000</td>\n",
       "      <td>-0.801325</td>\n",
       "    </tr>\n",
       "  </tbody>\n",
       "</table>\n",
       "</div>"
      ],
      "text/plain": [
       "   medv      crim    zn     indus  chas       nox        rm       age  \\\n",
       "0    24 -1.000000 -0.64 -0.864370  -1.0 -0.370370  0.155011  0.283213   \n",
       "1    21 -0.999528 -1.00 -0.515396  -1.0 -0.654321  0.095995  0.565396   \n",
       "2    34 -0.999529 -1.00 -0.515396  -1.0 -0.654321  0.388772  0.198764   \n",
       "3    33 -0.999414 -1.00 -0.873900  -1.0 -0.699588  0.317111 -0.116375   \n",
       "4    36 -0.998590 -1.00 -0.873900  -1.0 -0.699588  0.374210  0.056643   \n",
       "\n",
       "        dis       rad       tax   ptratio         b     lstat  \n",
       "0 -0.461594 -1.000000 -0.583969 -0.425532  1.000000 -0.820640  \n",
       "1 -0.302076 -0.913043 -0.790076  0.106383  1.000000 -0.591060  \n",
       "2 -0.302076 -0.913043 -0.790076  0.106383  0.979475 -0.873068  \n",
       "3 -0.102911 -0.826087 -0.866412  0.297872  0.988552 -0.933223  \n",
       "4 -0.102911 -0.826087 -0.866412  0.297872  1.000000 -0.801325  "
      ]
     },
     "execution_count": 3,
     "metadata": {},
     "output_type": "execute_result"
    }
   ],
   "source": [
    "# Solution\n",
    "names = ['medv', 'crim', 'zn', 'indus', 'chas', 'nox', 'rm', 'age', 'dis', 'rad', 'tax', 'ptratio', 'b', 'lstat']\n",
    "data = pd.read_csv('housing_scale.csv', header=None, names=names)\n",
    "data.head()"
   ]
  },
  {
   "cell_type": "code",
   "execution_count": 3,
   "metadata": {
    "collapsed": false
   },
   "outputs": [
    {
     "data": {
      "text/plain": [
       "(506, 13)"
      ]
     },
     "execution_count": 4,
     "metadata": {},
     "output_type": "execute_result"
    }
   ],
   "source": [
    "data.drop('chas', axis=1, inplace=True)\n",
    "data.shape"
   ]
  },
  {
   "cell_type": "markdown",
   "metadata": {},
   "source": [
    "## Plotting\n",
    "\n",
    "Plotting is done using the [matplotlib](http://matplotlib.org/) toolbox. For example:"
   ]
  },
  {
   "cell_type": "code",
   "execution_count": 4,
   "metadata": {
    "collapsed": false
   },
   "outputs": [
    {
     "data": {
      "text/plain": [
       "<matplotlib.text.Text at 0x10737be48>"
      ]
     },
     "execution_count": 5,
     "metadata": {},
     "output_type": "execute_result"
    },
    {
     "data": {
      "image/png": "[encoded data removed]",
      "text/plain": [
       "<matplotlib.figure.Figure at 0x10726f0b8>"
      ]
     },
     "metadata": {},
     "output_type": "display_data"
    }
   ],
   "source": [
    "x = [0,1.2,2,3,5.1,7,8,9]\n",
    "y1 = [1.1,3,2,4,5,6,8.1,8.2]\n",
    "y2 = [4.2,4.2,4.1,5,6,3.2,4.8,6]\n",
    "fig = plt.figure(figsize=(11,5))\n",
    "ax = fig.add_subplot(121)\n",
    "ax.plot(x,y1,'b--')\n",
    "ax.plot(x,y1,'bs',label='y1')\n",
    "ax.plot(x,y2,'r:')\n",
    "ax.plot(x,y2,'r>',label='y2')\n",
    "ax.set_title('Some random data')\n",
    "ax.set_ylabel('labels')\n",
    "ax.legend(loc='upper left', numpoints=1)\n",
    "ax = fig.add_subplot(122)\n",
    "ax.plot(x,y1,'bo')\n",
    "ax.set_title('same data as before, without lines')\n",
    "ax.set_xlabel(r'examples (symbols, e.g. $\\alpha,\\beta,\\gamma$, works)')\n"
   ]
  },
  {
   "cell_type": "markdown",
   "metadata": {},
   "source": [
    "Plot the median value of the property (vertical axis) versus the tax rate (horizontal axis)."
   ]
  },
  {
   "cell_type": "code",
   "execution_count": 5,
   "metadata": {
    "collapsed": false
   },
   "outputs": [
    {
     "data": {
      "text/plain": [
       "<matplotlib.text.Text at 0x1073fb550>"
      ]
     },
     "execution_count": 6,
     "metadata": {},
     "output_type": "execute_result"
    },
    {
     "data": {
      "image/png": "[encoded data removed]",
      "text/plain": [
       "<matplotlib.figure.Figure at 0x1047ad8d0>"
      ]
     },
     "metadata": {},
     "output_type": "display_data"
    }
   ],
   "source": [
    "# Solution\n",
    "plt.plot(data['tax'], data['medv'], 'g*')\n",
    "plt.title('Boston house prices')\n",
    "plt.xlabel('Tax rate (normalised)')\n",
    "plt.ylabel('Median property value ($1000s)')"
   ]
  },
  {
   "cell_type": "markdown",
   "metadata": {},
   "source": [
    "## Regression without regularization\n",
    "\n",
    "Implement the sum of squares error function to find the maximum likelihood solution $w_{ML}$ for the regression problem. Implement subroutines for polynomial basis function of degree 2. See [expansion based on binomial formula](http://en.wikipedia.org/wiki/Polynomial_kernel)."
   ]
  },
  {
   "cell_type": "code",
   "execution_count": 6,
   "metadata": {
    "collapsed": false
   },
   "outputs": [],
   "source": [
    "# Solution\n",
    "def w_ml_unregularised(Phi, t):\n",
    "    return np.dot(np.dot(np.linalg.inv(np.dot(Phi.T, Phi)), Phi.T), t)\n",
    "\n",
    "def phi_quadratic(x):\n",
    "    \"\"\"Compute phi(x) for a single training example using quadratic basis function.\"\"\"\n",
    "    D = len(x)\n",
    "    # Features are (1, {x_i}, {cross terms and squared terms})\n",
    "    # Cross terms x_i x_j and squared terms x_i^2 can be taken from upper triangle of outer product of x with itself\n",
    "    return np.hstack((1, x, np.outer(x, x)[np.triu_indices(D)]))"
   ]
  },
  {
   "cell_type": "code",
   "execution_count": 5,
   "metadata": {
    "collapsed": false
   },
   "outputs": [
    {
     "data": {
      "text/plain": [
       "array([[ 1,  2,  3,  4],\n",
       "       [ 2,  4,  6,  8],\n",
       "       [ 3,  6,  9, 12],\n",
       "       [ 4,  8, 12, 16],\n",
       "       [ 1,  2,  3,  4],\n",
       "       [ 2,  4,  6,  8],\n",
       "       [ 3,  6,  9, 12],\n",
       "       [ 4,  8, 12, 16]])"
      ]
     },
     "execution_count": 5,
     "metadata": {},
     "output_type": "execute_result"
    }
   ],
   "source": [
    "np.outer([[1,2,3,4],[1,2,3,4]],[1,2,3,4])"
   ]
  },
  {
   "cell_type": "markdown",
   "metadata": {},
   "source": [
    "## Training and testing\n",
    "\n",
    "Use half of the available data for training the model using maximum likelihood. The rest of the data is allocated to the test set. Report the root mean squared error (RMSE) for the training set and the test set."
   ]
  },
  {
   "cell_type": "code",
   "execution_count": 7,
   "metadata": {
    "collapsed": false
   },
   "outputs": [
    {
     "data": {
      "text/plain": [
       "(4.73848930827163, 5.2792183063130871)"
      ]
     },
     "execution_count": 8,
     "metadata": {},
     "output_type": "execute_result"
    }
   ],
   "source": [
    "# Solution\n",
    "def split_data(data):\n",
    "    \"\"\"Randomly split data into two equal groups\"\"\"\n",
    "    np.random.seed(1)\n",
    "    N = len(data)\n",
    "    idx = np.arange(N)\n",
    "    np.random.shuffle(idx)\n",
    "    train_idx = idx[:int(N/2)]\n",
    "    test_idx = idx[int(N/2):]\n",
    "\n",
    "    X_train = data.loc[train_idx].drop('medv', axis=1)\n",
    "    t_train = data.loc[train_idx]['medv']\n",
    "    X_test = data.loc[test_idx].drop('medv', axis=1)\n",
    "    t_test = data.loc[test_idx]['medv']\n",
    "    \n",
    "    return X_train, t_train, X_test, t_test\n",
    "\n",
    "def rmse(X_train, t_train, X_test, t_test, w):\n",
    "    \"\"\"Return the RMSE for training and test sets\"\"\"\n",
    "    N_train = len(X_train)\n",
    "    N_test = len(X_test)\n",
    "\n",
    "    # Training set error\n",
    "    t_train_pred = np.dot(X_train, w)\n",
    "    rmse_train = np.linalg.norm(t_train_pred - t_train) / np.sqrt(N_train)\n",
    "\n",
    "    # Test set error\n",
    "    t_test_pred = np.dot(X_test, w)\n",
    "    rmse_test = np.linalg.norm(t_test_pred - t_test) / np.sqrt(N_test)\n",
    "\n",
    "    return rmse_train, rmse_test\n",
    "\n",
    "X_train, t_train, X_test, t_test = split_data(data)\n",
    "w_unreg = w_ml_unregularised(X_train, t_train)\n",
    "rmse(X_train, t_train, X_test, t_test, w_unreg)"
   ]
  },
  {
   "cell_type": "markdown",
   "metadata": {},
   "source": [
    "Using the standard basis function (no transformations), find the feature with the biggest weight. Plot two figures, one for the training set and one for the test set. In each figure, plot the label against the this most important feature. Also include a line showing your maximum likelihood predictor (*Hint: use* ```np.arange``` *to generate data*)."
   ]
  },
  {
   "cell_type": "code",
   "execution_count": 8,
   "metadata": {
    "collapsed": false
   },
   "outputs": [
    {
     "data": {
      "text/plain": [
       "<matplotlib.legend.Legend at 0x107925b38>"
      ]
     },
     "execution_count": 9,
     "metadata": {},
     "output_type": "execute_result"
    },
    {
     "data": {
      "image/png": "[encoded data removed]",
      "text/plain": [
       "<matplotlib.figure.Figure at 0x1074cb0b8>"
      ]
     },
     "metadata": {},
     "output_type": "display_data"
    }
   ],
   "source": [
    "# Solution\n",
    "max_feature = np.argmax(np.abs(w_unreg))\n",
    "t_train_pred = np.dot(X_train, w_unreg)\n",
    "t_test_pred = np.dot(X_test, w_unreg)\n",
    "fig = plt.figure(figsize=(15,5))\n",
    "\n",
    "ax = fig.add_subplot(121)\n",
    "ax.plot(X_train[[max_feature]], t_train, 'b.', label='true')\n",
    "ax.plot(X_train[[max_feature]], t_train_pred, 'r.', label='predicted')\n",
    "ax.set_title('Boston house prices - training set')\n",
    "ax.set_xlabel(X_train.columns[max_feature])\n",
    "ax.set_ylabel('Median property value ($1000s)')\n",
    "ax.legend()\n",
    "\n",
    "ax = fig.add_subplot(122)\n",
    "ax.plot(X_test[[max_feature]], t_test, 'b.', label='true')\n",
    "ax.plot(X_test[[max_feature]], t_test_pred, 'r.', label='predicted')\n",
    "ax.set_title('Boston house prices - test set')\n",
    "ax.set_xlabel(X_test.columns[max_feature])\n",
    "ax.set_ylabel('Median property value ($1000s)')\n",
    "ax.legend()"
   ]
  },
  {
   "cell_type": "markdown",
   "metadata": {},
   "source": [
    "## Regression with regularization\n",
    "\n",
    "Implement the regularized least squares regression to find the maximum likelihood solution $w_{reg}$ with regularizer $\\lambda>0$. (Warning: the keyword ```lambda``` is a reserved word in Python)."
   ]
  },
  {
   "cell_type": "code",
   "execution_count": 9,
   "metadata": {
    "collapsed": false
   },
   "outputs": [],
   "source": [
    "# Solution\n",
    "\n",
    "def w_ml_regularised(Phi, t, l):\n",
    "    return np.dot(np.dot(np.linalg.inv(l * np.eye(Phi.shape[1]) + np.dot(Phi.T, Phi)), Phi.T), t)\n"
   ]
  },
  {
   "cell_type": "markdown",
   "metadata": {},
   "source": [
    "Similar to the previous exercise, plot two figures showing the most important feature along with the label and prediction. Use $\\lambda = 1.1$."
   ]
  },
  {
   "cell_type": "code",
   "execution_count": 10,
   "metadata": {
    "collapsed": false
   },
   "outputs": [
    {
     "data": {
      "text/plain": [
       "(4.7467361390129454, 5.2603798541769695)"
      ]
     },
     "execution_count": 11,
     "metadata": {},
     "output_type": "execute_result"
    },
    {
     "data": {
      "image/png": "[encoded data removed]",
      "text/plain": [
       "<matplotlib.figure.Figure at 0x107937080>"
      ]
     },
     "metadata": {},
     "output_type": "display_data"
    }
   ],
   "source": [
    "# Solution\n",
    "\n",
    "w_reg = w_ml_regularised(X_train, t_train, 1.1)\n",
    "max_feature = np.argmax(np.abs(w_reg))\n",
    "t_train_pred = np.dot(X_train, w_reg)\n",
    "t_test_pred = np.dot(X_test, w_reg)\n",
    "fig = plt.figure(figsize=(15,5))\n",
    "\n",
    "ax = fig.add_subplot(121)\n",
    "ax.plot(X_train[[max_feature]], t_train, 'b.', label='true')\n",
    "ax.plot(X_train[[max_feature]], t_train_pred, 'r.', label='predicted')\n",
    "ax.set_title('Boston house prices - training set')\n",
    "ax.set_xlabel(X_train.columns[max_feature])\n",
    "ax.set_ylabel('Median property value ($1000s)')\n",
    "ax.legend()\n",
    "\n",
    "ax = fig.add_subplot(122)\n",
    "ax.plot(X_test[[max_feature]], t_test, 'b.', label='true')\n",
    "ax.plot(X_test[[max_feature]], t_test_pred, 'r.', label='predicted')\n",
    "ax.set_title('Boston house prices - test set')\n",
    "ax.set_xlabel(X_test.columns[max_feature])\n",
    "ax.set_ylabel('Median property value ($1000s)')\n",
    "ax.legend()\n",
    "\n",
    "rmse(X_train, t_train, X_test, t_test, w_reg)"
   ]
  },
  {
   "cell_type": "markdown",
   "metadata": {},
   "source": [
    "## Analysis of results\n",
    "\n",
    "Compare the RSME of regression with and without regularization. By also considering the plots, describe what you observe and explain your observations."
   ]
  },
  {
   "cell_type": "markdown",
   "metadata": {},
   "source": [
    "### Solution\n",
    "\n",
    "The regularised model performs slightly worse on the training set (higher RMSE), but slightly better on the test set (lower RMSE). Including a regularisation term in the error function means the resulting model is less likely to overfit and therefore performs better on unseen test data. Note that the regularisation term is even more important when using polynomial basis functions (see below), as the higher dimensionality means there is more potential to overfit the training data."
   ]
  },
  {
   "cell_type": "markdown",
   "metadata": {},
   "source": [
    "## (optional) Exploration of basis functions and regularization parameter\n",
    "\n",
    "The choice of basis function as well as the value of the regularization parameter $\\lambda$ affects the performance of the predictor. Using the same training and test data as before, compute the different RMSE for:\n",
    "* The standard basis (as done above)\n",
    "* polynomial basis function of degree 2.\n",
    "* $\\lambda$ = [0.01, 0.1, 1, 10, 100]"
   ]
  },
  {
   "cell_type": "code",
   "execution_count": 11,
   "metadata": {
    "collapsed": false
   },
   "outputs": [
    {
     "data": {
      "text/html": [
       "<div>\n",
       "<table border=\"1\" class=\"dataframe\">\n",
       "  <thead>\n",
       "    <tr style=\"text-align: right;\">\n",
       "      <th></th>\n",
       "      <th>rmse_train_linear</th>\n",
       "      <th>rmse_test_linear</th>\n",
       "      <th>rmse_train_quad</th>\n",
       "      <th>rmse_test_quad</th>\n",
       "    </tr>\n",
       "  </thead>\n",
       "  <tbody>\n",
       "    <tr>\n",
       "      <th>0.00</th>\n",
       "      <td>4.73849</td>\n",
       "      <td>5.27922</td>\n",
       "      <td>2.43924</td>\n",
       "      <td>5.6817</td>\n",
       "    </tr>\n",
       "    <tr>\n",
       "      <th>0.01</th>\n",
       "      <td>4.73849</td>\n",
       "      <td>5.27899</td>\n",
       "      <td>2.5093</td>\n",
       "      <td>3.51985</td>\n",
       "    </tr>\n",
       "    <tr>\n",
       "      <th>0.10</th>\n",
       "      <td>4.73857</td>\n",
       "      <td>5.27695</td>\n",
       "      <td>2.57043</td>\n",
       "      <td>3.33795</td>\n",
       "    </tr>\n",
       "    <tr>\n",
       "      <th>1.00</th>\n",
       "      <td>4.74539</td>\n",
       "      <td>5.26159</td>\n",
       "      <td>2.76864</td>\n",
       "      <td>3.33788</td>\n",
       "    </tr>\n",
       "    <tr>\n",
       "      <th>10.00</th>\n",
       "      <td>5.05532</td>\n",
       "      <td>5.35731</td>\n",
       "      <td>3.40314</td>\n",
       "      <td>3.725</td>\n",
       "    </tr>\n",
       "    <tr>\n",
       "      <th>100.00</th>\n",
       "      <td>7.57274</td>\n",
       "      <td>7.39682</td>\n",
       "      <td>4.93107</td>\n",
       "      <td>4.86188</td>\n",
       "    </tr>\n",
       "  </tbody>\n",
       "</table>\n",
       "</div>"
      ],
      "text/plain": [
       "       rmse_train_linear rmse_test_linear rmse_train_quad rmse_test_quad\n",
       "0.00             4.73849          5.27922         2.43924         5.6817\n",
       "0.01             4.73849          5.27899          2.5093        3.51985\n",
       "0.10             4.73857          5.27695         2.57043        3.33795\n",
       "1.00             4.74539          5.26159         2.76864        3.33788\n",
       "10.00            5.05532          5.35731         3.40314          3.725\n",
       "100.00           7.57274          7.39682         4.93107        4.86188"
      ]
     },
     "execution_count": 12,
     "metadata": {},
     "output_type": "execute_result"
    }
   ],
   "source": [
    "# Solution\n",
    "\n",
    "lambdas = [0, 0.01, 0.1, 1, 10, 100]\n",
    "results = pd.DataFrame(columns=['rmse_train_linear', 'rmse_test_linear', 'rmse_train_quad', 'rmse_test_quad'], index=lambdas)\n",
    "\n",
    "for l in lambdas:\n",
    "    # RMSE with no transformation applied\n",
    "    results.at[l,['rmse_train_linear', 'rmse_test_linear']] = \\\n",
    "        rmse(X_train, t_train, X_test, t_test, w_ml_regularised(X_train, t_train, l))\n",
    "        \n",
    "    # RMSE after applying quadratic basis function transformation to each data point\n",
    "    Phi_train = np.array([phi_quadratic(x) for i,x in X_train.iterrows()])\n",
    "    Phi_test = np.array([phi_quadratic(x) for i,x in X_test.iterrows()])\n",
    "    results.at[l,['rmse_train_quad', 'rmse_test_quad']] = \\\n",
    "        rmse(Phi_train, t_train, Phi_test, t_test, w_ml_regularised(Phi_train, t_train, l))\n",
    "\n",
    "results"
   ]
  }
 ],
 "metadata": {
  "kernelspec": {
   "display_name": "Python 3",
   "language": "python",
   "name": "python3"
  },
  "language_info": {
   "codemirror_mode": {
    "name": "ipython",
    "version": 3
   },
   "file_extension": ".py",
   "mimetype": "text/x-python",
   "name": "python",
   "nbconvert_exporter": "python",
   "pygments_lexer": "ipython3",
   "version": "3.6.0"
  }
 },
 "nbformat": 4,
 "nbformat_minor": 0
}
