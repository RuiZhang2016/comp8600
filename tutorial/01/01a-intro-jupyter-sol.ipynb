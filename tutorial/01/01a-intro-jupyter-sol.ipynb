{
 "cells": [
  {
   "cell_type": "markdown",
   "metadata": {},
   "source": [
    "# Introduction to Jupyter notebooks"
   ]
  },
  {
   "cell_type": "markdown",
   "metadata": {},
   "source": [
    "###### COMP4670/8600 - Introduction to Statistical Machine Learning - Tutorial 1A"
   ]
  },
  {
   "cell_type": "markdown",
   "metadata": {},
   "source": [
    "The first tutorial will introduce the *basic elements* for writing Python programs, and using \n",
    "[Jupyter notebooks](http://jupyter.org/). All tutorials and assignments will be done using this format.\n",
    "\n",
    "Due to the wide variety of backgrounds that students may have, it is worth recalling some mathematics and statistics that we build upon in this course."
   ]
  },
  {
   "cell_type": "markdown",
   "metadata": {},
   "source": [
    "## Basic knowledge\n",
    "\n",
    "**IMPORTANT: When using mathematical formulas, provide the precise name for each component.**\n",
    "\n",
    "$\\newcommand{\\RR}{\\mathbb{R}}$\n",
    "\n",
    "\n",
    "### Random variables\n",
    "\n",
    "Write down the definitions of the following entities, and provide a simple example to illustrate.\n",
    "\n",
    "1. The expectation of a function $f$ with respect to a\n",
    "   * continuous random variable $X$\n",
    "   * discrete random variable $X$\n",
    "2. The variance of a random variable $X$.\n",
    "3. Independence of two random variables $X$ and $Y$"
   ]
  },
  {
   "cell_type": "markdown",
   "metadata": {},
   "source": [
    "### Solution\n",
    "\n",
    "1. Expectation\n",
    "    * Continuous random variable:\n",
    "        * $\\mathbb{E}[f]=\\int p(x)f(x)dx$\n",
    "        * Example: $x \\in [0,1]$, $p(x)=1$ (ie. constant), $f(x)=x^2$. $\\mathbb{E}[f]=\\int_0^1x^2dx=[\\frac{1}{3}x^3]^1_0=\\frac{1}{3}$.\n",
    "    * Discrete random variable:\n",
    "        * $\\mathbb{E}[f]=\\sum\\limits_{x}p(x)f(x)$  \n",
    "        * Example: $x \\in \\{0,1\\}$, $p(1)=\\frac{1}{1000},p(0)=\\frac{999}{1000}$, $f(1)=100,f(0)=0$. $\\mathbb{E}[f]=\\frac{1}{1000}\\times 100 + \\frac{999}{1000} \\times 0=0.1$.  \n",
    "2. Variance: $Var(X)=\\mathbb{E}[(X-\\mathbb{E}[X])^2]$\n",
    "    * Example (continuing discrete random variable example above): $Var(X)=\\frac{1}{1000}\\times(100-0.1)^2 + \\frac{999}{1000} \\times (0-0.1)^2=9.99$.\n",
    "3. Independence: $p(x,y)=p(x)p(y)$. Example shown in table below:\n",
    "    \n",
    "| | X=heads | X=tails | Total|\n",
    "|:--------------------------:|:--:|:--:|\n",
    "| Y = cloudy |0.15 |0.15 |0.3|\n",
    "| Y = sunny |0.35|0.35|0.7|\n",
    "|Total|0.5|0.5|1|"
   ]
  },
  {
   "cell_type": "markdown",
   "metadata": {},
   "source": [
    "### Discrete probabilities\n",
    "\n",
    "For discrete random variables $X$ and $Y$, define the following, and show an example of how it applies to the example below.\n",
    "\n",
    "| $p(\\mathbf{X},\\mathbf{Y})$ | X=a | X=b | X=c | X=d | X=e |\n",
    "|:--------------------------:|:--:|:--:|:--:|:--:|:--:|\n",
    "| **Y** = red |0.2 |0.1 |0.1 |0.01|0.04|\n",
    "| **Y** = green |0.08|0.07|0.01|0.05|0.05|\n",
    "| **Y** = blue |0.01|0.01|0.07|0.05|0.15|\n",
    "\n",
    "1. The sum rule of probability theory\n",
    "2. The product rule of probability theory\n",
    "3. Independence of two random variables $X$ and $Y$"
   ]
  },
  {
   "cell_type": "markdown",
   "metadata": {},
   "source": [
    "### Solution\n",
    "1. Sum rule\n",
    "    * $p(Y=y)=\\sum\\limits_xp(X=x,Y=y)$\n",
    "    * Example: $p(Y=red)=\\sum\\limits_xp(X=x,Y=red)=0.2+0.1+0.1+0.01+0.04=0.45$.\n",
    "2. Product rule\n",
    "    * $p(X=x,Y=y)=p(X=x)p(Y=y|X=x)$\n",
    "    * Example: $p(X=a,Y=red)=p(X=a)p(Y=red|X=a)=(0.2+0.08+0.01)\\times\\frac{0.2}{0.2+0.08+0.01}=0.2$.\n",
    "3. Independence:\n",
    "    * see definition in previous question\n",
    "    * Example: \n",
    "        * $p(X=a,Y=red)=0.2$\n",
    "        * $p(X=a)p(Y=red)=(0.2+0.08+0.01)\\times(0.2+0.1+0.1+0.01+0.04)=0.29\\times0.45=0.1305$.\n",
    "        * Therefore $X$ and $Y$ are not independent."
   ]
  },
  {
   "cell_type": "markdown",
   "metadata": {},
   "source": [
    "### Linear algebra\n",
    "\n",
    "Write down the definitions, being careful to specify conditions (if needed) when they exist.\n",
    "\n",
    "1. The eigenvector decomposition of a matrix $C$.\n",
    "2. The solution of a linear system of equations $Ax=b$."
   ]
  },
  {
   "cell_type": "markdown",
   "metadata": {},
   "source": [
    "### Solution\n",
    "\n",
    "1. Eigenvector decomposition\n",
    "    * $C=U\\Lambda U^T$ where the columns of $U$ are the eigenvectors of $C$ and $\\Lambda$ is a diagonal matrix with diagonal elements given by the eigenvalues of $C$. This decomposition is conditioned on $C$ being a (square) symmetric matrix whose entries are real numbers. Eigenvalues $\\mathbf{u}$ and their corresponding eigenvalues $\\lambda$ have the property $C\\mathbf{u}=\\lambda\\mathbf{u}$.\n",
    "    \n",
    "2. Solution of a linear system\n",
    "    * Unique solution: $x=A^{-1}b$ if $A$ is invertible (ie. it is square and of full rank)\n",
    "    * Infinitely many solutions: $x=A^+b+(I-A^+A)w$ where $A^+$ is the Moore-Penrose pseudo-inverse of $A$, $AA^+b=b$ and $w$ is an arbitrary vector \n",
    "    * No solution: $AA^+b\\neq b$"
   ]
  },
  {
   "cell_type": "markdown",
   "metadata": {},
   "source": [
    "### Calculus\n",
    "\n",
    "Compute the gradient of the following function $f:\\RR\\to\\RR$\n",
    "$$\n",
    "f(x) = \\frac{1}{1 + \\exp(x^2)}\n",
    "$$\n",
    "What would the the gradient if $x$ was two dimensional (that is $f:\\RR^2\\to\\RR$)?"
   ]
  },
  {
   "cell_type": "markdown",
   "metadata": {},
   "source": [
    "### Solution\n",
    "* One dimension\n",
    "$$\\frac{df}{dx}=\\frac{-2x\\exp(x^2)}{(1+\\exp(x^2))^2}$$\n",
    "* Two dimensions\n",
    "\n",
    "$x^2$ is not defined if $x$ is a vector. However, if $$f(x) = \\frac{1}{1 + \\exp(||x||^2)}=\\frac{1}{1 + \\exp(x_1^2+x_2^2)}$$\n",
    "\n",
    "then\n",
    "\n",
    "$$\\nabla{f}=\\begin{bmatrix}\\frac{\\partial f}{\\partial x_1}\\\\\\frac{\\partial f}{\\partial x_2}\\end{bmatrix}=\\frac{-2\\exp(||x||^2)}{(1+\\exp(||x||^2))^2}\\begin{bmatrix}x_1\\\\x_2\\end{bmatrix}$$"
   ]
  },
  {
   "cell_type": "markdown",
   "metadata": {},
   "source": [
    "## Python and Programming for Machine Learning"
   ]
  },
  {
   "cell_type": "markdown",
   "metadata": {},
   "source": [
    "*If you already know Python and Jupyter notebooks well, please work on Tutorial 1B \"Linear Algebra and Optimisation\".*\n",
    "\n",
    "The introduction will focus on the concepts necessary for writing small programs in Python for the purpose of Machine Learning. That means, we expect a user of the code will be a reasonable knowledgeable person. Therefore, we can *skip* most of the code a robust system would have to contain in order to *check* the input types, *verify* the input parameter ranges, and *make sure* that really nothing can go wrong when somebody else is using the code.\n",
    "Having said this, you are nevertheless encouraged to include some sanity tests into your code to avoid making simple errors which can cost you a lot of time to find.\n",
    "Some of the Python concepts discussed in the tutorial will be\n",
    "- Data types (bool, int, float, str, list, tuple, set, dict)\n",
    "- Operators\n",
    "- Data flow\n",
    "- Functions\n",
    "- Classes and objects\n",
    "- Modules and how to use them\n",
    "\n",
    "**We will be using [Python3](https://wiki.python.org/moin/Python2orPython3) in this course**.\n",
    "\n",
    "Some resources:\n",
    "- [CodeAcademy](http://www.codecademy.com/en/tracks/python) gives a step by step introduction to python\n",
    "- [How to think like a computer scientist](http://interactivepython.org/courselib/static/thinkcspy/index.html) does what it says, using Python\n",
    "\n",
    "## Installation\n",
    "\n",
    "The easiest way to get a working Python environment is using one of the following collections:\n",
    "- [Enthought canopy](https://store.enthought.com/)\n",
    "- [Anaconda](http://continuum.io/downloads)\n",
    "\n",
    "It is also not too difficult to install python using your favourite package manager and then use [conda](http://conda.pydata.org/docs/) or [pip](http://en.wikipedia.org/wiki/Pip_%28package_manager%29) to manage python packages."
   ]
  },
  {
   "cell_type": "markdown",
   "metadata": {},
   "source": [
    "## Jupyter Notebooks"
   ]
  },
  {
   "cell_type": "markdown",
   "metadata": {},
   "source": [
    "**To work on a worksheet or assignment, download the notebook and edit it locally.**\n",
    "\n",
    "[Jupyter notebooks](http://jupyter.org/) provide a convenient browser based environment for data analysis in a literate programming environment. The descriptive parts of the notebook implements an enhanced version of [markdown](http://daringfireball.net/projects/markdown/syntax), which allows the use of [LaTeX](http://www.latex-project.org/) for rendering equations.\n",
    "1. Descriptive notes\n",
    "   - Markdown\n",
    "   - LaTeX\n",
    "2. Computational code\n",
    "   - numerical python\n",
    "      * numpy\n",
    "      * scipy\n",
    "   - pandas\n",
    "   - matplotlib\n",
    "   \n",
    "To use a notebook locally:\n",
    "```bash\n",
    "jupyter notebook name_of_file.ipynb\n",
    "```\n"
   ]
  },
  {
   "cell_type": "markdown",
   "metadata": {},
   "source": [
    "## Markdown and LaTeX\n",
    "\n",
    "In addition to lists and links which are already shown above, \n",
    "tables are also nice and easy\n",
    "\n",
    "|Title | Middle| Left aligned | Right aligned |\n",
    "|------|:-----:|:-----|--:|\n",
    "|Monday|10:00|Sunny|*30*|\n",
    "|Thursday|12:32|Rain|*22.3*|\n",
    "\n",
    "It is also easy to typeset good looking equations inline, such as $f(x) = x^2$, or on a line by itself.\n",
    "\\begin{equation}\n",
    "    g(x) = \\sum_{i=1}^n \\frac{\\prod_{j=1}^d y_j \\sqrt{3x_i^4}}{f(x_i)}\n",
    "\\end{equation}\n",
    "If you use a symbol often, you can define it at the top of a document as follows (look at source), and use it in equations.\n",
    "\n",
    "$\\newcommand{\\amazing}{\\sqrt{3x_i^4}}$\n",
    "\n",
    "\\begin{equation}\n",
    "    h(x) = \\sum_{i=1}^n \\amazing\n",
    "\\end{equation}\n",
    "\n",
    "## Computational code\n",
    "\n",
    "Setting up python environment ([do not use pylab](http://carreau.github.io/posts/10-No-PyLab-Thanks.ipynb.html))"
   ]
  },
  {
   "cell_type": "code",
   "execution_count": 1,
   "metadata": {
    "collapsed": false
   },
   "outputs": [],
   "source": [
    "import matplotlib.pyplot as plt\n",
    "import numpy as np\n",
    "import scipy as sp\n",
    "import pandas as pd\n",
    "pd.set_option('notebook_repr_html', True)\n",
    "\n",
    "%matplotlib inline"
   ]
  },
  {
   "cell_type": "markdown",
   "metadata": {},
   "source": [
    "Some resources:\n",
    "* [Tentative NumPy Tutorial](http://wiki.scipy.org/Tentative_NumPy_Tutorial)\n",
    "* [SciPy Tutorial](http://docs.scipy.org/doc/scipy/reference/tutorial/)\n",
    "* [Matplotlib PyPlot Tutorial](http://matplotlib.org/1.3.1/users/pyplot_tutorial.html)\n",
    "* [Pandas Tutorials](http://pandas.pydata.org/pandas-docs/stable/tutorials.html) (especially [10 Minutes to Pandas (http://pandas.pydata.org/pandas-docs/stable/10min.html))\n"
   ]
  }
 ],
 "metadata": {
  "kernelspec": {
   "display_name": "Python 3",
   "language": "python",
   "name": "python3"
  },
  "language_info": {
   "codemirror_mode": {
    "name": "ipython",
    "version": 3
   },
   "file_extension": ".py",
   "mimetype": "text/x-python",
   "name": "python",
   "nbconvert_exporter": "python",
   "pygments_lexer": "ipython3",
   "version": "3.6.0"
  }
 },
 "nbformat": 4,
 "nbformat_minor": 0
}
