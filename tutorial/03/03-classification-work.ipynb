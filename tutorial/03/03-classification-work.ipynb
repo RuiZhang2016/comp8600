{
 "cells": [
  {
   "cell_type": "markdown",
   "metadata": {},
   "source": [
    "# Classification"
   ]
  },
  {
   "cell_type": "markdown",
   "metadata": {},
   "source": [
    "###### COMP4670/8600 - Introduction to Statistical Machine Learning - Tutorial 3"
   ]
  },
  {
   "cell_type": "markdown",
   "metadata": {},
   "source": [
    "$\\newcommand{\\trace}[1]{\\operatorname{tr}\\left\\{#1\\right\\}}$\n",
    "$\\newcommand{\\Norm}[1]{\\lVert#1\\rVert}$\n",
    "$\\newcommand{\\RR}{\\mathbb{R}}$\n",
    "$\\newcommand{\\inner}[2]{\\langle #1, #2 \\rangle}$\n",
    "$\\newcommand{\\DD}{\\mathscr{D}}$\n",
    "$\\newcommand{\\grad}[1]{\\operatorname{grad}#1}$\n",
    "$\\DeclareMathOperator*{\\argmin}{arg\\,min}$\n",
    "\n",
    "Setting up the environment"
   ]
  },
  {
   "cell_type": "code",
   "execution_count": 4,
   "metadata": {
    "collapsed": false
   },
   "outputs": [],
   "source": [
    "import matplotlib.pyplot as plt\n",
    "import numpy as np\n",
    "import scipy.optimize as opt\n",
    "\n",
    "%matplotlib inline"
   ]
  },
  {
   "cell_type": "markdown",
   "metadata": {},
   "source": [
    "## The data set\n",
    "\n",
    "We will predict the incidence of diabetes based on various measurements (see [description](https://archive.ics.uci.edu/ml/datasets/Pima+Indians+Diabetes)). Instead of directly using the raw data, we use a normalised version, where the label to be predicted (the incidence of diabetes) is in the first column. Download the data from [the course website](https://machlearn.gitlab.io/isml2017/tutorial/diabetes_scale.csv).\n",
    "\n",
    "Read in the data using ```np.loadtxt```."
   ]
  },
  {
   "cell_type": "code",
   "execution_count": 5,
   "metadata": {
    "collapsed": false
   },
   "outputs": [],
   "source": [
    "# Solution goes here\n",
    "data = np.loadtxt(\"diabetes_scale.csv\",delimiter = \",\")"
   ]
  },
  {
   "cell_type": "markdown",
   "metadata": {},
   "source": [
    "## Classification via Logistic Regression\n",
    "\n",
    "Implement binary classification using logistic regression for a data set with two classes. Make sure you use appropriate [python style](https://www.python.org/dev/peps/pep-0008/) and [docstrings](https://www.python.org/dev/peps/pep-0257/).\n",
    "\n",
    "Use ```scipy.optimize.fmin_bfgs``` to optimise your cost function. ```fmin_bfgs``` requires the cost function to be optimised, and the gradient of this cost function. Implement these two functions as ```cost``` and ```grad``` by following the equations in the lectures.\n",
    "\n",
    "Implement the function ```train``` that takes a matrix of examples, and a vector of labels, and returns the maximum likelihood weight vector for logistic regresssion. Also implement a function ```test``` that takes this maximum likelihood weight vector and the a matrix of examples, and returns the predictions. See the section **Putting everything together** below for expected usage.\n",
    "\n",
    "We add an extra column of ones to represent the constant basis."
   ]
  },
  {
   "cell_type": "code",
   "execution_count": 6,
   "metadata": {
    "collapsed": false
   },
   "outputs": [
    {
     "data": {
      "text/plain": [
       "array([[-1.        , -0.294118  ,  0.487437  ,  0.180328  , -0.292929  ,\n",
       "        -1.        ,  0.00149028, -0.53117   , -0.0333333 ,  1.        ],\n",
       "       [ 1.        , -0.882353  , -0.145729  ,  0.0819672 , -0.414141  ,\n",
       "        -1.        , -0.207153  , -0.766866  , -0.666667  ,  1.        ],\n",
       "       [-1.        , -0.0588235 ,  0.839196  ,  0.0491803 , -1.        ,\n",
       "        -1.        , -0.305514  , -0.492741  , -0.633333  ,  1.        ],\n",
       "       [ 1.        , -0.882353  , -0.105528  ,  0.0819672 , -0.535354  ,\n",
       "        -0.777778  , -0.162444  , -0.923997  , -1.        ,  1.        ],\n",
       "       [-1.        , -1.        ,  0.376884  , -0.344262  , -0.292929  ,\n",
       "        -0.602837  ,  0.28465   ,  0.887276  , -0.6       ,  1.        ]])"
      ]
     },
     "execution_count": 6,
     "metadata": {},
     "output_type": "execute_result"
    }
   ],
   "source": [
    "data = np.hstack([data, np.ones((data.shape[0], 1))]) # add a column of ones\n",
    "data[:5,:]"
   ]
  },
  {
   "cell_type": "code",
   "execution_count": 1,
   "metadata": {
    "collapsed": false
   },
   "outputs": [],
   "source": [
    "# Solution goes here\n",
    "# scipy.optimize.fmin_bfgs\n",
    "# fmin_bfgs\n",
    "def sigmoid(x):\n",
    "    return(1/(1+np.exp(-x)))\n",
    "\n",
    "def phi(x):\n",
    "    return(x)\n",
    "\n",
    "def predict(w,x):\n",
    "    return(sigmoid(phi(x).dot(w)))\n",
    "\n",
    "def cost(w,x,t):\n",
    "    return(-(t.T.dot(np.log(predict(w,x))) + (1-t).T.dot(np.log(predict(w,-x)))))\n",
    "\n",
    "def grad(w,x,t):\n",
    "    return((predict(w,x)-t).T.dot(phi(x)))\n",
    "\n",
    "\n",
    "def train(x,t):\n",
    "    w = np.ones(x.shape[1])*1e-8\n",
    "    w = opt.fmin_bfgs(cost, x0 = w, fprime = grad, args = (x,t))\n",
    "    return(w)\n",
    "    \n",
    "\n",
    "def test(w,x,t):\n",
    "    print(cost(w,x,t))\n",
    "    return(predict(x,w))\n",
    "\n",
    "# Test\n",
    "# x = data[:,1:]\n",
    "# t = data[:,0]\n",
    "# t = t>0\n",
    "\n",
    "# n = len(x)\n",
    "# train_x = x[:n/2,:]\n",
    "# train_y = t[:n/2]\n",
    "# test_x = x[n/2:,:]\n",
    "# test_y = t[n/2:]\n",
    "\n",
    "# w = train(train_x,train_y)\n",
    "# pred_y = test(w,test_x,test_y)"
   ]
  },
  {
   "cell_type": "markdown",
   "metadata": {},
   "source": [
    "## Performance measure\n",
    "\n",
    "There are many ways to compute the [performance of a binary classifier](http://en.wikipedia.org/wiki/Evaluation_of_binary_classifiers). The key concept is the idea of a confusion matrix or contingency table:\n",
    "\n",
    "|              |    | Label |    |\n",
    "|:-------------|:--:|:-----:|:--:|\n",
    "|              |    |  +1   | -1 |\n",
    "|**Prediction**| +1 |    TP | FP |\n",
    "|              | -1 |    FN | TN |\n",
    "\n",
    "where\n",
    "* TP - true positive\n",
    "* FP - false positive\n",
    "* FN - false negative\n",
    "* TN - true negative\n",
    "\n",
    "Implement three functions, the first one which returns the confusion matrix for comparing two lists (one set of predictions, and one set of labels). Then implement two functions that take the confusion matrix as input and returns the **accuracy** and **balanced accuracy** respectively. Accuracy is defined as the number of correct classifications divided by the total number of examples. The balanced accuracy is the average accuracy of each class, that is the accuracy when the true class is positive and the accuracy when the true class is negative (averaged).\n"
   ]
  },
  {
   "cell_type": "code",
   "execution_count": 20,
   "metadata": {
    "collapsed": false
   },
   "outputs": [],
   "source": [
    "# Solution goes here\n",
    "\n",
    "def confusion_matrix(pred,truth):\n",
    "    N = len(pred)\n",
    "    TP_array =  [ pred[i] for i in range(N) if pred[i] == 1 and truth[i] == 1]\n",
    "    FP_array =  [ pred[i] for i in range(N) if pred[i] == 1 and truth[i] == -1]\n",
    "    TN_array =  [ pred[i] for i in range(N) if pred[i] == -1 and truth[i] == -1]\n",
    "    FN_array =  [ pred[i] for i in range(N) if pred[i] == -1 and truth[i] == 1]\n",
    "    \n",
    "    res = {\"TP\":len(TP_array),\"FP\":len(FP_array),\"TN\":len(TN_array),\"FN\":len(FN_array) }\n",
    "    return(res)\n",
    "\n",
    "def accuracy(confusion_matrix):\n",
    "    \n",
    "    N = sum(confusion_matrix.values())\n",
    "    accuracy = (confusion_matrix[\"TP\"] + confusion_matrix[\"TN\"])/N\n",
    "    return(accuracy)\n",
    "\n",
    "def balanced_accuracy(confusion_matrix):\n",
    "    BA1 = confusion_matrix[\"TP\"]/(confusion_matrix[\"TP\"] + confusion_matrix[\"FN\"])\n",
    "    BA2 = confusion_matrix[\"TN\"]/(confusion_matrix[\"FP\"] + confusion_matrix[\"TN\"])\n",
    "    return((BA1 + BA2)/2)"
   ]
  },
  {
   "cell_type": "markdown",
   "metadata": {},
   "source": [
    "## Putting everything together\n",
    "\n",
    "Consider the following code, which trains on all the examples, and predicts on the training set. Discuss the results."
   ]
  },
  {
   "cell_type": "code",
   "execution_count": 21,
   "metadata": {
    "collapsed": false
   },
   "outputs": [
    {
     "name": "stdout",
     "output_type": "stream",
     "text": [
      "Warning: Desired error not necessarily achieved due to precision loss.\n",
      "         Current function value: nan\n",
      "         Iterations: 8\n",
      "         Function evaluations: 119\n",
      "         Gradient evaluations: 119\n",
      "0.0\n"
     ]
    },
    {
     "name": "stderr",
     "output_type": "stream",
     "text": [
      "/usr/local/lib/python3.4/dist-packages/ipykernel/__main__.py:5: RuntimeWarning: overflow encountered in exp\n",
      "/usr/local/lib/python3.4/dist-packages/ipykernel/__main__.py:14: RuntimeWarning: divide by zero encountered in log\n",
      "/usr/local/lib/python3.4/dist-packages/ipykernel/__main__.py:5: RuntimeWarning: overflow encountered in exp\n",
      "/usr/local/lib/python3.4/dist-packages/ipykernel/__main__.py:14: RuntimeWarning: divide by zero encountered in log\n",
      "/usr/local/lib/python3.4/dist-packages/ipykernel/__main__.py:5: RuntimeWarning: overflow encountered in exp\n"
     ]
    },
    {
     "data": {
      "text/plain": [
       "[0.9107692307692308, 0.5]"
      ]
     },
     "execution_count": 21,
     "metadata": {},
     "output_type": "execute_result"
    }
   ],
   "source": [
    "y = data[:,0]\n",
    "X = data[:,1:]\n",
    "theta_best = train(X, y)\n",
    "pred = predict(theta_best, X)\n",
    "cmatrix = confusion_matrix(pred, y)\n",
    "[accuracy(cmatrix), balanced_accuracy(cmatrix)]"
   ]
  },
  {
   "cell_type": "markdown",
   "metadata": {},
   "source": [
    "### Solution description"
   ]
  },
  {
   "cell_type": "markdown",
   "metadata": {},
   "source": [
    "## Fisher's discriminant\n",
    "\n",
    "In the lectures, you saw that the Fisher criterion\n",
    "$$\n",
    "J(w) = \\frac{w^T S_B w}{w^T S_W w}\n",
    "$$\n",
    "is maximum for Fisher's linear discriminant.\n",
    "\n",
    "Define $S_B$ and $S_W$ as in the lectures and prove this result."
   ]
  },
  {
   "cell_type": "markdown",
   "metadata": {},
   "source": [
    "### Solution description"
   ]
  },
  {
   "cell_type": "markdown",
   "metadata": {},
   "source": [
    "### Solution description"
   ]
  },
  {
   "cell_type": "markdown",
   "metadata": {},
   "source": [
    "## (optional) Effect of regularization parameter\n",
    "\n",
    "By splitting the data into two halves, train on one half and report performance on the second half. By repeating this experiment for different values of the regularization parameter $\\lambda$ we can get a feeling about the variability in the performance of the classifier due to regularization. Plot the values of accuracy and balanced accuracy for at least 3 different choices of $\\lambda$. Note that you may have to update your implementation of logistic regression to include the regularisation parameter.\n"
   ]
  },
  {
   "cell_type": "code",
   "execution_count": null,
   "metadata": {
    "collapsed": false
   },
   "outputs": [],
   "source": [
    "### Solution\n",
    "\n",
    "def split_data(data):\n",
    "    \"\"\"Randomly split data into two equal groups\"\"\"\n",
    "    np.random.seed(1)\n",
    "    N = len(data)\n",
    "    idx = np.arange(N)\n",
    "    np.random.shuffle(idx)\n",
    "    train_idx = idx[:int(N/2)]\n",
    "    test_idx = idx[int(N/2):]\n",
    "\n",
    "    X_train = data[train_idx, 1:]\n",
    "    t_train = data[train_idx, 0]\n",
    "    X_test = data[test_idx, 1:]\n",
    "    t_test = data[test_idx, 0]\n",
    "    \n",
    "    return X_train, t_train, X_test, t_test\n",
    "\n",
    "X_train, t_train, X_test, t_test = split_data(data)\n"
   ]
  },
  {
   "cell_type": "markdown",
   "metadata": {},
   "source": [
    "### Solution description"
   ]
  }
 ],
 "metadata": {
  "kernelspec": {
   "display_name": "Python 3",
   "language": "python",
   "name": "python3"
  },
  "language_info": {
   "codemirror_mode": {
    "name": "ipython",
    "version": 3
   },
   "file_extension": ".py",
   "mimetype": "text/x-python",
   "name": "python",
   "nbconvert_exporter": "python",
   "pygments_lexer": "ipython3",
   "version": "3.6.0"
  }
 },
 "nbformat": 4,
 "nbformat_minor": 0
}
