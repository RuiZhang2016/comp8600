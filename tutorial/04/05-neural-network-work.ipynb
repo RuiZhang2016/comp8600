{
 "cells": [
  {
   "cell_type": "markdown",
   "metadata": {},
   "source": [
    "# Neural Networks"
   ]
  },
  {
   "cell_type": "markdown",
   "metadata": {},
   "source": [
    "###### COMP4670/8600 - Introduction to Statistical Machine Learning - Tutorial 5"
   ]
  },
  {
   "cell_type": "markdown",
   "metadata": {},
   "source": [
    "$\\newcommand{\\trace}[1]{\\operatorname{tr}\\left\\{#1\\right\\}}$\n",
    "$\\newcommand{\\Norm}[1]{\\lVert#1\\rVert}$\n",
    "$\\newcommand{\\RR}{\\mathbb{R}}$\n",
    "$\\newcommand{\\inner}[2]{\\langle #1, #2 \\rangle}$\n",
    "$\\newcommand{\\DD}{\\mathscr{D}}$\n",
    "$\\newcommand{\\grad}[1]{\\operatorname{grad}#1}$\n",
    "$\\DeclareMathOperator*{\\argmin}{arg\\,min}$\n",
    "\n",
    "Setting up the environment"
   ]
  },
  {
   "cell_type": "code",
   "execution_count": 1,
   "metadata": {
    "collapsed": false
   },
   "outputs": [],
   "source": [
    "import matplotlib.pyplot as plt\n",
    "import numpy as np\n",
    "import pandas as pd\n",
    "\n",
    "%matplotlib inline"
   ]
  },
  {
   "cell_type": "markdown",
   "metadata": {},
   "source": [
    "## The data set\n",
    "\n",
    "We will use an old dataset on the price of housing in Boston (see [description](https://archive.ics.uci.edu/ml/datasets/Housing)). The aim is to predict the median value of the owner occupied homes from various other factors. This is the same data as was used in Tutorial 2. However, this time we will explore data normalisation, and hence use the raw data instead. Please download this from [mldata.org](http://mldata.org/repository/data/download/csv/regression-datasets-housing/).\n",
    "\n",
    "As in Tutorial 2, use ```pandas``` to read the data. Remove the 'CHAS' feature from the dataset. "
   ]
  },
  {
   "cell_type": "code",
   "execution_count": 2,
   "metadata": {
    "collapsed": false
   },
   "outputs": [
    {
     "data": {
      "text/plain": [
       "(506, 13)"
      ]
     },
     "execution_count": 2,
     "metadata": {},
     "output_type": "execute_result"
    }
   ],
   "source": [
    "names_full =  ['crim', 'zn', 'indus', 'chas', 'nox', 'rm', 'age', 'dis', 'rad', 'tax', 'ptratio', 'b', 'lstat', 'medv']\n",
    "data_full = np.loadtxt('housing_scale.csv', delimiter=',')\n",
    "ichas = names_full.index('chas')\n",
    "data = np.delete(data_full, ichas, axis=1) \n",
    "names = names_full\n",
    "del names[ichas]\n",
    "data.shape"
   ]
  },
  {
   "cell_type": "markdown",
   "metadata": {},
   "source": [
    "Implement a function that will normalise each feature such that the mean value of the feature is zero and the variance is one. Apply this function to each feature in the housing dataset."
   ]
  },
  {
   "cell_type": "code",
   "execution_count": 9,
   "metadata": {
    "collapsed": false
   },
   "outputs": [],
   "source": [
    "# Solution goes here\n",
    "\n",
    "def normalize(array):\n",
    "    m = np.mean(array)\n",
    "    v = np.var(array) # std = np.std(array)\n",
    "    std = np.std(array)\n",
    "    return((array-m)/std) # (array-m)/std\n",
    "    \n",
    "n_data = data\n",
    "for name in names:\n",
    "    n_array = normalize(data[names.index(name)])\n",
    "    n_data[names.index(name)] = n_array"
   ]
  },
  {
   "cell_type": "markdown",
   "metadata": {},
   "source": [
    "To simplify equations, we introduce an extra input so that the biases can be absorbed into the weights."
   ]
  },
  {
   "cell_type": "code",
   "execution_count": 10,
   "metadata": {
    "collapsed": false
   },
   "outputs": [],
   "source": [
    "num_ex = n_data.shape[0]\n",
    "n_data_ones = np.hstack((n_data, np.ones(num_ex).reshape(-1,1)))\n",
    "names_ones = names + ['one']"
   ]
  },
  {
   "cell_type": "markdown",
   "metadata": {},
   "source": [
    "## Comparing two normalisations\n",
    "\n",
    "Compare the normalised data ```n_data``` to the data from Tutorial 2 by plotting and/or comparing histograms. Discuss the potential effect of the normalisation on the regression task."
   ]
  },
  {
   "cell_type": "code",
   "execution_count": 11,
   "metadata": {
    "collapsed": false
   },
   "outputs": [
    {
     "data": {
      "text/plain": [
       "<matplotlib.text.Text at 0x7f3d6a7f7278>"
      ]
     },
     "execution_count": 11,
     "metadata": {},
     "output_type": "execute_result"
    },
    {
     "data": {
      "image/png": "[encoded data removed]",
      "text/plain": [
       "<matplotlib.figure.Figure at 0x7f3d6abe2cc0>"
      ]
     },
     "metadata": {},
     "output_type": "display_data"
    }
   ],
   "source": [
    "# Solution goes here\n",
    "data2 = np.loadtxt('housing_scale.csv', delimiter=',')\n",
    "\n",
    "fig = plt.figure(figsize=(13,6))\n",
    "ax1 = fig.add_subplot(121)\n",
    "ax1.hist(n_data_ones[:,names_ones.index('tax')], bins=30)\n",
    "ax1.set_title('Z normalization')\n",
    "ax2 = fig.add_subplot(122)\n",
    "ax2.hist(data2[:,names_ones.index('tax')], bins=30)\n",
    "ax2.set_title('interval [-1,1]')"
   ]
  },
  {
   "cell_type": "markdown",
   "metadata": {},
   "source": [
    "## Error Backpropagation\n",
    "\n",
    "Note that we are considering a regression problem. That is we want to predict the median value of homes (a real number) from the other features. We use the squared error to measure performance.\n",
    "$$\n",
    "E = \\frac{1}{2} \\sum_k (y_k - t_k)^2\n",
    "$$\n",
    "\n",
    "### Objective function\n",
    "Write down the objective function of a neural network with one hidden layer. Use the identity activation function for the hidden units. Write down the equation for 5 hidden units.\n",
    "\n",
    "How many input units should there be? What should be the activation function of the output units? Explain why these choices are reasonable."
   ]
  },
  {
   "cell_type": "markdown",
   "metadata": {},
   "source": [
    "### Solution description\n",
    "\n",
    "$$\n",
    "y = \\sum_{j} w_j^{(2)} (\\sum_i w_{ji}^{(1)} x_i) + w_0^{(2)}\n",
    "$$\n",
    "\n",
    "$$\n",
    "= \\mathbf{x^Tw^{(1)}w^{(2)}}\n",
    "$$\n",
    "\n",
    "(1) 13 input units. Totally twelve features and one unit of bias. (12 , except bias unit).\n",
    "\n",
    "(2) Identity activation function. Because here we do a regression task, the identity activation function is commonly used there.\n"
   ]
  },
  {
   "cell_type": "markdown",
   "metadata": {},
   "source": [
    "### Gradient\n",
    "Compute the gradient\n",
    "$\\frac{\\partial E}{\\partial w^{(2)}}$\n",
    "\n",
    "Because only one unit in the output layer\n",
    "$$\n",
    "E = 0.5(y-t)^2\n",
    "$$\n",
    "\n",
    "$$\n",
    "\\frac{\\partial E}{\\partial w_j^{(2)}} = (y-t)\\frac{\\partial y}{\\partial w_j^{(2)}}\n",
    "$$\n",
    "\n",
    "$$\n",
    "\\frac{\\partial y}{\\partial w_j^{(2)}} = \\sum_j w_{ji}^{(1)}x_i\n",
    "$$\n",
    "\n",
    "$$\n",
    "\\frac{\\partial y}{\\mathbf{\\partial w^{(2)}}} = \\mathbf{w^{(1)T} x}\n",
    "$$\n",
    "\n",
    "$$\n",
    "\\frac{\\partial E}{\\partial \\mathbf{w^{(2)}}} = (y -t) \\mathbf{w^{(1)T} x}\n",
    "$$\n"
   ]
  },
  {
   "cell_type": "markdown",
   "metadata": {},
   "source": [
    "### Solution description\n",
    "\n"
   ]
  },
  {
   "cell_type": "markdown",
   "metadata": {},
   "source": [
    "## Checking correctness\n",
    "\n",
    "One strategy to check that your code is correct in neural networks (and in general any gradient code) is to numerically check that your expression is correct. From the lecture we see that:\n",
    "$$\n",
    "\\frac{\\partial E}{\\partial w^{(2)}} \\simeq \\frac{E(w^{(2)} + \\epsilon) - E(w^{(2)} - \\epsilon)}{2\\epsilon}.\n",
    "$$\n",
    "For more information see [the following wiki](http://ufldl.stanford.edu/wiki/index.php/Gradient_checking_and_advanced_optimization).\n",
    "\n",
    "Implement two functions, one that computes the analytic gradient and the second that computes the numerical gradient."
   ]
  },
  {
   "cell_type": "code",
   "execution_count": 35,
   "metadata": {
    "collapsed": false
   },
   "outputs": [],
   "source": [
    "# Solution goes here\n",
    "def net(w1,w2,x):\n",
    "    a1 = x.T.dot(w1)\n",
    "    z1 = a1\n",
    "    z1 = np.append(z1,1)\n",
    "    a2 = z1.dot(w2)\n",
    "    return(a2)\n",
    "\n",
    "def error(a,t):\n",
    "    e = 0.5*np.power(a-t,2)\n",
    "    return(e)\n",
    "    \n",
    "def grad_error(w1,w2,t,x):\n",
    "    y = net(w1,w2,x)\n",
    "    a1 = x.T.dot(w1)\n",
    "    return((y-t)*a1)\n",
    "\n",
    "def numerical_grad(w1,w2,t,x):\n",
    "    n = w2.shape[0]\n",
    "    e = 1e-8\n",
    "    c = np.diag(e*np.ones(n))\n",
    "    grads = np.ones(n)\n",
    "    for i in range(n):\n",
    "        w2_add = w2[:]+c[:,i]\n",
    "        w2_min = w2[:]-c[:,i]\n",
    "        y_add = net(w1,w2_add,x)\n",
    "        y_min = net(w1,w2_min,x)\n",
    "        grads[i] = (error(y_add,t)-error(y_min,t))/2/e\n",
    "    return(grads)\n",
    "\n",
    "#test\n",
    "hidden_units = 5\n",
    "output_units = 1\n",
    "col_w1 = hidden_units\n",
    "row_w1 = n_data_ones.shape[1]-1\n",
    "W1 = np.random.randn(row_w1,col_w1)\n",
    "W2 = np.random.randn(hidden_units+1)\n",
    "\n",
    "imedv = names_full.index('medv')\n",
    "x = np.delete(n_data_ones, -2, axis=1) \n",
    "y = n_data_ones[:,-1]"
   ]
  },
  {
   "cell_type": "code",
   "execution_count": 36,
   "metadata": {
    "collapsed": false
   },
   "outputs": [
    {
     "name": "stdout",
     "output_type": "stream",
     "text": [
      "[ 0.85811393 -1.69943619 -0.14255968  0.35216259 -1.58899455 -0.36722944]\n",
      "-8.93368641677\n",
      "[ 47.11617583  -1.01391643  55.70359909 -11.84376831 -34.64730781]\n",
      "[ 47.11617621  -1.01391642  55.70359889 -11.84376863 -34.64730796\n",
      "  -9.93368623]\n"
     ]
    }
   ],
   "source": [
    "print(W2)\n",
    "print(net(W1,W2,x[1]))\n",
    "print(grad_error(W1,W2,y[1],x[1]))\n",
    "print(numerical_grad(W1,W2,y[1],x[1]))"
   ]
  },
  {
   "cell_type": "markdown",
   "metadata": {},
   "source": [
    "Using the Boston housing data above, confirm that the two functions return almost the same values of the gradient for various values of $w$."
   ]
  },
  {
   "cell_type": "code",
   "execution_count": null,
   "metadata": {
    "collapsed": false
   },
   "outputs": [],
   "source": [
    "# Solution goes here"
   ]
  },
  {
   "cell_type": "markdown",
   "metadata": {},
   "source": [
    "## (optional) Gradients for hidden layer\n",
    "\n",
    "Derive and implement the gradients for the hidden layer, hence giving you the full two layer neural network. Use this with the experimental set up in Tutorial 2 to analyse the Boston housing data. Recall that since we are using linear activation functions, this is equivalent to using a linear model. Compare and contrast the results of the neural network with regularised linear regression."
   ]
  },
  {
   "cell_type": "code",
   "execution_count": null,
   "metadata": {
    "collapsed": false
   },
   "outputs": [],
   "source": []
  }
 ],
 "metadata": {
  "kernelspec": {
   "display_name": "Python 3",
   "language": "python",
   "name": "python3"
  },
  "language_info": {
   "codemirror_mode": {
    "name": "ipython",
    "version": 3
   },
   "file_extension": ".py",
   "mimetype": "text/x-python",
   "name": "python",
   "nbconvert_exporter": "python",
   "pygments_lexer": "ipython3",
   "version": "3.6.0"
  }
 },
 "nbformat": 4,
 "nbformat_minor": 0
}
