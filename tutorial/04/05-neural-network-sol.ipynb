{
 "cells": [
  {
   "cell_type": "markdown",
   "metadata": {},
   "source": [
    "# Neural Networks"
   ]
  },
  {
   "cell_type": "markdown",
   "metadata": {},
   "source": [
    "###### COMP4670/8600 - Introduction to Statistical Machine Learning - Tutorial 5"
   ]
  },
  {
   "cell_type": "markdown",
   "metadata": {},
   "source": [
    "$\\newcommand{\\trace}[1]{\\operatorname{tr}\\left\\{#1\\right\\}}$\n",
    "$\\newcommand{\\Norm}[1]{\\lVert#1\\rVert}$\n",
    "$\\newcommand{\\RR}{\\mathbb{R}}$\n",
    "$\\newcommand{\\inner}[2]{\\langle #1, #2 \\rangle}$\n",
    "$\\newcommand{\\DD}{\\mathscr{D}}$\n",
    "$\\newcommand{\\grad}[1]{\\operatorname{grad}#1}$\n",
    "$\\DeclareMathOperator*{\\argmin}{arg\\,min}$\n",
    "\n",
    "Setting up the environment"
   ]
  },
  {
   "cell_type": "code",
   "execution_count": 1,
   "metadata": {
    "collapsed": false
   },
   "outputs": [],
   "source": [
    "import matplotlib.pyplot as plt\n",
    "import numpy as np\n",
    "import pandas as pd\n",
    "\n",
    "%matplotlib inline"
   ]
  },
  {
   "cell_type": "markdown",
   "metadata": {},
   "source": [
    "## The data set\n",
    "\n",
    "We will use an old dataset on the price of housing in Boston (see [description](https://archive.ics.uci.edu/ml/datasets/Housing)). The aim is to predict the median value of the owner occupied homes from various other factors. This is the same data as was used in Tutorial 2. However, this time we will explore data normalisation, and hence use the raw data instead. Please download this from [mldata.org](http://mldata.org/repository/data/download/csv/regression-datasets-housing/).\n",
    "\n",
    "As in Tutorial 2, use ```pandas``` to read the data. Remove the 'CHAS' feature from the dataset. "
   ]
  },
  {
   "cell_type": "code",
   "execution_count": 2,
   "metadata": {
    "collapsed": false
   },
   "outputs": [
    {
     "data": {
      "text/plain": [
       "(506, 13)"
      ]
     },
     "execution_count": 3,
     "metadata": {},
     "output_type": "execute_result"
    }
   ],
   "source": [
    "names_full =  ['crim', 'zn', 'indus', 'chas', 'nox', 'rm', 'age', 'dis', 'rad', 'tax', 'ptratio', 'b', 'lstat', 'medv']\n",
    "data_full = np.loadtxt('regression-datasets-housing.csv', delimiter=',')\n",
    "ichas = names_full.index('chas')\n",
    "data = np.delete(data_full, ichas, axis=1) \n",
    "names = names_full\n",
    "del names[ichas]\n",
    "data.shape"
   ]
  },
  {
   "cell_type": "markdown",
   "metadata": {},
   "source": [
    "Implement a function that will normalise each feature such that the mean value of the feature is zero and the variance is one. Apply this function to each feature in the housing dataset."
   ]
  },
  {
   "cell_type": "code",
   "execution_count": 3,
   "metadata": {
    "collapsed": false
   },
   "outputs": [],
   "source": [
    "# Solution\n",
    "\n",
    "def normalise_z(data):\n",
    "    \"\"\"Returns data that is Z normalised.\n",
    "    Each feature has zero mean and unit variance.\n",
    "    \"\"\"\n",
    "    mu = np.mean(data, axis=0)\n",
    "    sigma = np.std(data, axis=0)\n",
    "    assert np.all(sigma > 0.0), sigma\n",
    "    return (data-mu)/sigma\n",
    "\n",
    "n_data = normalise_z(data)"
   ]
  },
  {
   "cell_type": "markdown",
   "metadata": {},
   "source": [
    "To simplify equations, we introduce an extra input so that the biases can be absorbed into the weights."
   ]
  },
  {
   "cell_type": "code",
   "execution_count": 4,
   "metadata": {
    "collapsed": false
   },
   "outputs": [],
   "source": [
    "num_ex = n_data.shape[0]\n",
    "n_data_ones = np.hstack((n_data, np.ones(num_ex).reshape(-1,1)))\n",
    "names_ones = names + ['one']"
   ]
  },
  {
   "cell_type": "markdown",
   "metadata": {},
   "source": [
    "## Comparing two normalisations\n",
    "\n",
    "Compare the normalised data ```n_data``` to the data from Tutorial 2 by plotting and/or comparing histograms. Discuss the potential effect of the normalisation on the regression task."
   ]
  },
  {
   "cell_type": "code",
   "execution_count": 5,
   "metadata": {
    "collapsed": false
   },
   "outputs": [
    {
     "data": {
      "text/plain": [
       "<matplotlib.text.Text at 0x1074ae470>"
      ]
     },
     "execution_count": 6,
     "metadata": {},
     "output_type": "execute_result"
    },
    {
     "data": {
      "image/png": "[encoded data removed]",
      "text/plain": [
       "<matplotlib.figure.Figure at 0x107270f28>"
      ]
     },
     "metadata": {},
     "output_type": "display_data"
    }
   ],
   "source": [
    "# Solution\n",
    "\n",
    "data2 = np.loadtxt('housing_scale.csv', delimiter=',')\n",
    "\n",
    "fig = plt.figure(figsize=(13,6))\n",
    "ax1 = fig.add_subplot(121)\n",
    "ax1.hist(n_data_ones[:,names_ones.index('tax')], bins=30)\n",
    "ax1.set_title('Z normalization')\n",
    "ax2 = fig.add_subplot(122)\n",
    "ax2.hist(data2[:,names_ones.index('tax')], bins=30)\n",
    "ax2.set_title('interval [-1,1]')\n",
    "\n",
    "# Note that this is an open ended question."
   ]
  },
  {
   "cell_type": "markdown",
   "metadata": {},
   "source": [
    "## Error Backpropagation\n",
    "\n",
    "Note that we are considering a regression problem. That is we want to predict the median value of homes (a real number) from the other features. We use the squared error to measure performance.\n",
    "$$\n",
    "E = \\frac{1}{2} \\sum_k (y_k - t_k)^2\n",
    "$$\n",
    "\n",
    "### Objective function\n",
    "Write down the objective function of a neural network with one hidden layer. Use the identity activation function for the hidden units. Write down the equation for 5 hidden units.\n",
    "\n",
    "How many input units should there be? What should be the activation function of the output units? Explain why these choices are reasonable."
   ]
  },
  {
   "cell_type": "markdown",
   "metadata": {},
   "source": [
    "### Solution\n",
    "\n",
    "Using notation from lecture slides:\n",
    "$$\n",
    "y_k(x,w) = g\\left(\\sum_{j=0}^M w_{kj}^{(2)} h \\left( \\sum_{i=0}^D w_{ji}^{(1)} x_i\\right)\\right).\n",
    "$$\n",
    "\n",
    "Since we are considering regression, $g(\\cdot)$ is the identity. \n",
    "We assume $h(\\cdot)$ is also the identity, simplifying matters.\n",
    "There should be 12 input units, one for each feature, and one output unit.\n",
    "$$\n",
    "y_1(x,w) = \\sum_{j=0}^4 w_{kj}^{(2)} \\left( \\sum_{i=0}^{11} w_{ji}^{(1)} x_i\\right).\n",
    "$$\n",
    "\n",
    "We consider the squared error, hence the objective function of the neural network is (where $t$ is the label):\n",
    "\\begin{align}\n",
    "E &= \\frac{1}{2} \\left(y_1(x,w) - t\\right)^2\\\\\n",
    "&= \\frac{1}{2} \\left(\\sum_{j=0}^4 w_{kj}^{(2)} \\left( \\sum_{i=0}^{11} w_{ji}^{(1)} x_i\\right) - t\\right)^2\n",
    "\\end{align}"
   ]
  },
  {
   "cell_type": "markdown",
   "metadata": {},
   "source": [
    "### Gradient\n",
    "Compute the gradient\n",
    "$\\frac{\\partial E}{\\partial w^{(2)}}$"
   ]
  },
  {
   "cell_type": "markdown",
   "metadata": {},
   "source": [
    "### Solution\n",
    "$$\n",
    "\\frac{\\partial E}{\\partial w_{kj}^{(2)}} = \n",
    "\\left(\\sum_{j=0}^4 w_{kj}^{(2)} \\left( \\sum_{i=0}^{11} w_{ji}^{(1)} x_i\\right) - t\\right)\\left( \\sum_{i=0}^{11} w_{ji}^{(1)} x_i\\right)\n",
    "$$"
   ]
  },
  {
   "cell_type": "markdown",
   "metadata": {},
   "source": [
    "## Checking correctness\n",
    "\n",
    "One strategy to check that your code is correct in neural networks (and in general any gradient code) is to numerically check that your expression is correct. From the lecture we see that:\n",
    "$$\n",
    "\\frac{\\partial E}{\\partial w^{(2)}} \\simeq \\frac{E(w^{(2)} + \\epsilon) - E(w^{(2)} - \\epsilon)}{2\\epsilon}.\n",
    "$$\n",
    "For more information see [the following wiki](http://ufldl.stanford.edu/wiki/index.php/Gradient_checking_and_advanced_optimization).\n",
    "\n",
    "Implement two functions, one that computes the analytic gradient and the second that computes the numerical gradient."
   ]
  },
  {
   "cell_type": "code",
   "execution_count": 6,
   "metadata": {
    "collapsed": false
   },
   "outputs": [],
   "source": [
    "# Solution\n",
    "\n",
    "def grad_analytic(Wout, Whid, x_i, t):\n",
    "    \"\"\"Returns the gradient of the output layer, based on analytic formula.\"\"\"\n",
    "    hid = np.dot(Whid, x_i)\n",
    "    grad = (np.dot(Wout, hid) - t)*hid\n",
    "    return grad\n",
    "\n",
    "def objective(Wout, Whid, x_i, t):\n",
    "    \"\"\"Returns the objective value of the neural network\"\"\"\n",
    "    hid = np.dot(Whid, x_i)\n",
    "    obj = 0.5*(np.dot(Wout, hid) - t)**2\n",
    "    return obj\n",
    "\n",
    "def grad_numerical(Wout, Whid, x_i, t):\n",
    "    \"\"\"Returns the gradient of the output layer, based on numerical gradient\"\"\"\n",
    "    num_hidden = len(Wout)\n",
    "    grad = np.zeros(num_hidden)\n",
    "    for idx in range(num_hidden):\n",
    "        epsilon = 0.01\n",
    "        Wout_plus = Wout.copy()\n",
    "        Wout_plus[idx] += epsilon\n",
    "        Wout_minus = Wout.copy()\n",
    "        Wout_minus[idx] -= epsilon\n",
    "        grad[idx] = objective(Wout_plus, Whid, x_i, t) - objective(Wout_minus, Whid, x_i, t)\n",
    "        grad[idx] /= 2.*epsilon\n",
    "    return grad"
   ]
  },
  {
   "cell_type": "markdown",
   "metadata": {},
   "source": [
    "Using the Boston housing data above, confirm that the two functions return almost the same values of the gradient for various values of $w$."
   ]
  },
  {
   "cell_type": "code",
   "execution_count": 7,
   "metadata": {
    "collapsed": false
   },
   "outputs": [],
   "source": [
    "# Solution\n",
    "    \n",
    "# Easiest test to debug is to use a deterministic function\n",
    "Wout = np.array([1,2,3,4,5], dtype=float)\n",
    "Whid = np.ones((5,13))\n",
    "for sample_idx in range(3):\n",
    "    x_i = np.array(n_data[sample_idx,:])\n",
    "    ga = grad_analytic(Wout, Whid, x_i, n_data[:,names.index('medv')][sample_idx])\n",
    "    gn = grad_numerical(Wout, Whid, x_i, n_data[:,names.index('medv')][sample_idx])\n",
    "    assert np.allclose(ga,gn), list(zip(ga,gn))\n",
    "    "
   ]
  },
  {
   "cell_type": "markdown",
   "metadata": {},
   "source": [
    "## (optional) Gradients for hidden layer\n",
    "\n",
    "Derive and implement the gradients for the hidden layer, hence giving you the full two layer neural network. Use this with the experimental set up in Tutorial 2 to analyse the Boston housing data. Recall that since we are using linear activation functions, this is equivalent to using a linear model. Compare and contrast the results of the neural network with regularised linear regression."
   ]
  },
  {
   "cell_type": "code",
   "execution_count": 8,
   "metadata": {
    "collapsed": false
   },
   "outputs": [],
   "source": []
  }
 ],
 "metadata": {
  "kernelspec": {
   "display_name": "Python 3",
   "language": "python",
   "name": "python3"
  },
  "language_info": {
   "codemirror_mode": {
    "name": "ipython",
    "version": 3
   },
   "file_extension": ".py",
   "mimetype": "text/x-python",
   "name": "python",
   "nbconvert_exporter": "python",
   "pygments_lexer": "ipython3",
   "version": "3.6.0"
  }
 },
 "nbformat": 4,
 "nbformat_minor": 0
}
