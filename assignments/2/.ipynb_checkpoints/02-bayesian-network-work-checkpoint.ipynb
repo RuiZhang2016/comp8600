{
 "cells": [
  {
   "cell_type": "markdown",
   "metadata": {},
   "source": [
    "# Inference and Reasoning with Bayesian Networks"
   ]
  },
  {
   "cell_type": "markdown",
   "metadata": {},
   "source": [
    "###### COMP4670/8600 - Introduction to Statistical Machine Learning - Assignment 2"
   ]
  },
  {
   "cell_type": "markdown",
   "metadata": {},
   "source": [
    "Name: Rui Zhang\n",
    "\n",
    "Student ID: u5963436"
   ]
  },
  {
   "cell_type": "markdown",
   "metadata": {},
   "source": [
    "## Instructions\n",
    "\n",
    "|             |Notes|\n",
    "|:------------|:--|\n",
    "|Maximum marks| 19|\n",
    "|Weight|19% of final grade|\n",
    "|Format| Complete this ipython notebook. Do not forget to fill in your name and student ID above|\n",
    "|Submission mode| Use [wattle](https://wattle.anu.edu.au/)|\n",
    "|Formulas| All formulas which you derive need to be explained unless you use very common mathematical facts. Picture yourself as explaining your arguments to somebody who is just learning about your assignment. With other words, do not assume that the person marking your assignment knows all the background and therefore you can just write down the formulas without any explanation. It is your task to convince the reader that you know what you are doing when you derive an argument. Typeset all formulas in $\\LaTeX$.|\n",
    "| Code quality | Python code should be well structured, use meaningful identifiers for variables and subroutines, and provide sufficient comments. Please refer to the examples given in the tutorials. |\n",
    "| Code efficiency | An efficient implementation of an algorithm uses fast subroutines provided by the language or additional libraries. For the purpose of implementing Machine Learning algorithms in this course, that means using the appropriate data structures provided by Python and in numpy/scipy (e.g. Linear Algebra and random generators). |\n",
    "| Cooperation | All assignments must be done individually. Cheating and plagiarism will be dealt with in accordance with University procedures (please see the ANU policies on [Academic Honesty and Plagiarism](http://academichonesty.anu.edu.au)). Hence, for example, code for programming assignments must not be developed in groups, nor should code be shared. You are encouraged to broadly discuss ideas, approaches and techniques with a few other students, but not at a level of detail where specific solutions or implementation issues are described by anyone. If you choose to consult with other students, you will include the names of your discussion partners for each solution. If you have any questions on this, please ask the lecturer before you act. |"
   ]
  },
  {
   "cell_type": "markdown",
   "metadata": {},
   "source": [
    "$\\newcommand{\\dotprod}[2]{\\left\\langle #1, #2 \\right\\rangle}$\n",
    "$\\newcommand{\\onevec}{\\mathbb{1}}$\n",
    "\n",
    "Setting up the environment (there is some hidden latex which needs to be run in this cell)."
   ]
  },
  {
   "cell_type": "code",
   "execution_count": 2,
   "metadata": {
    "collapsed": false
   },
   "outputs": [],
   "source": [
    "import itertools, copy\n",
    "import matplotlib.pyplot as plt\n",
    "import numpy as np\n",
    "from IPython.display import display, Image\n",
    "\n",
    "%matplotlib inline"
   ]
  },
  {
   "cell_type": "markdown",
   "metadata": {},
   "source": [
    "## Part 1: Graphical Models\n",
    "\n",
    "### Problem setting\n",
    "\n",
    "We are interested to predict the outcome of the election in an imaginary country, called Under Some Assumptions (USA). There are four candidates for whom the citizens can **Vote** for: Bernie, Donald, Hillary, and Ted. The citizens live in four **Region**s: north, south, east and west. We have general demographic information about the people, namely: **Gender** (male, female) and **Hand**edness (right, left). Based on surveys done by an external company, we believe that the **Region** and **Gender** affects whether the people use their **Jacket**s full time, part time or never. Surprisingly, the company told us that the **Age** of their shoes (new, worn, old) depends on how often they wear their **Jacket**s. Furthermore, the **Gender** and their preferred **Hand** affects the **Colour** of their hat (white, black). Finally, surveys say that the citizens will **Vote** based on their **Region**, **Age** of their shoes and **Colour** of their hats.\n",
    "\n",
    "The directed graphical model is depicted below:"
   ]
  },
  {
   "cell_type": "code",
   "execution_count": 3,
   "metadata": {
    "collapsed": false
   },
   "outputs": [
    {
     "data": {
      "text/html": [
       "<img src=\"https://machlearn.gitlab.io/isml2017/assignments/election_model.png\"/>"
      ],
      "text/plain": [
       "<IPython.core.display.Image object>"
      ]
     },
     "execution_count": 3,
     "metadata": {},
     "output_type": "execute_result"
    }
   ],
   "source": [
    "Image(url=\"https://machlearn.gitlab.io/isml2017/assignments/election_model.png\")"
   ]
  },
  {
   "cell_type": "markdown",
   "metadata": {},
   "source": [
    "### Conditional probability tables\n",
    "\n",
    "After paying the survey firm some more money, they provided the following conditional probability tables.\n",
    "\n",
    "|$p(R)$ | R=n | R=s | R=e | R=w |\n",
    "|:-----:|:--:|:--:|:--:|:--:|\n",
    "|marginal| 0.2 | 0.1 | 0.5 | 0.2 |\n",
    "\n",
    "|$p(G)$ | G=m | G=f |\n",
    "|:-----:|:--:|:--:|\n",
    "|marginal| 0.3 | 0.7 |\n",
    "\n",
    "|$p(H)$ | H=r | H=l |\n",
    "|:-----:|:--:|:--:|\n",
    "|marginal| 0.9 | 0.1 |\n",
    "\n",
    "| $p(J|R,G)$ | R=n,G=m | R=n,G=f | R=s,G=m | R=s,G=f | R=e,G=m | R=e,G=f | R=w,G=m | R=w,G=f |\n",
    "|:-----:|:--:|:--:|:--:|:--:|:--:|:--:|:--:|:--:|\n",
    "|**J**=full $\\quad$  |0.9 |0.8 |0.1 | 0.3 |0.4 |0.01| 0.02 | 0.2  |\n",
    "|**J**=part $\\quad$  |0.08|0.17|0.03| 0.35|0.05|0.01| 0.2  | 0.08 |\n",
    "|**J**=never $\\quad$ |0.02|0.03|0.87| 0.35|0.55|0.98| 0.78 | 0.72 |\n",
    "\n",
    "| $p(A|J)$ | J=full | J=part | J=never |\n",
    "|:-----:|:--:|:--:|:--:|\n",
    "|**A**=new  |0.01|0.96|0.3|\n",
    "|**A**=worn |0.98|0.03|0.5|\n",
    "|**A**=old  |0.01|0.01|0.2|\n",
    "\n",
    "| $p(C|G,H)$ | G=m,H=r | G=m,H=l | G=f,H=r | G=f,H=l |\n",
    "|:-----:|:--:|:--:|:--:|:--:|\n",
    "|**C**=black $\\quad$ |0.9 |0.83 |0.17 | 0.3 |\n",
    "|**C**=white $\\quad$ |0.1 |0.17|0.83 | 0.7 |\n",
    "\n",
    "The final conditional probability table is given by the matrix below. The order of the rows and columns are also given below."
   ]
  },
  {
   "cell_type": "code",
   "execution_count": 4,
   "metadata": {
    "collapsed": true
   },
   "outputs": [],
   "source": [
    "vote_column_names = ['north,new,black', 'north,new,white', 'north,worn,black', 'north,worn,white', \n",
    "                'north,old,black', 'north,old,white', 'south,new,black', 'south,new,white', \n",
    "                'south,worn,black', 'south,worn,white', 'south,old,black', 'south,old,white', \n",
    "                'east,new,black', 'east,new,white', 'east,worn,black', 'east,worn,white', \n",
    "                'east,old,black', 'east,old,white', 'west,new,black', 'west,new,white', \n",
    "                'west,worn,black', 'west,worn,white', 'west,old,black', 'west,old,white']\n",
    "\n",
    "vote_outcomes = ('bernie','donald','hillary','ted')\n",
    "\n",
    "vote_pmf_array = np.array(\n",
    "        [\n",
    "            [0.1,0.1,0.4,0.02,0.2,0.1,0.1,0.04,0.2,0.1,0.1 ,0.1,0.4 ,0.1 ,0.1,0.1 ,0.1,0.04,0.3,0.2,0.1,0.3,0.34,0.35],\n",
    "            [0.3,0.4,0.2,0.5 ,0.1,0.2,0.1,0.5 ,0.1,0.2,0.5 ,0.3,0.2 ,0.42,0.2,0.67,0.4,0.4 ,0.1,0.1,0.5,0.1,0.1 ,0.1],\n",
    "            [0.5,0.4,0.3,0.3 ,0.5,0.6,0.6,0.3 ,0.5,0.4,0.36,0.3,0.28,0.3 ,0.4,0.1 ,0.4,0.16,0.4,0.2,0.3,0.3,0.4 ,0.5],\n",
    "            [0.1,0.1,0.1,0.18,0.2,0.1,0.2,0.16,0.2,0.3,0.04,0.3,0.12,0.18,0.3,0.13,0.1,0.4 ,0.2,0.5,0.1,0.3,0.16,0.05],\n",
    "        ]\n",
    ")"
   ]
  },
  {
   "cell_type": "markdown",
   "metadata": {},
   "source": [
    "The 7 conditional probability tables in are encoded in python below. \n",
    "\n",
    "**Base your subsequent computations on these objects**."
   ]
  },
  {
   "cell_type": "code",
   "execution_count": 5,
   "metadata": {
    "collapsed": false
   },
   "outputs": [],
   "source": [
    "class RandomVariable(object):\n",
    "    def __init__(self, name, parents, outcomes, pmf_array):\n",
    "        assert isinstance(name, str)\n",
    "        assert all(isinstance(_, RandomVariable) for _ in parents)\n",
    "        assert isinstance(outcomes, tuple)\n",
    "        assert all(isinstance(_, str) for _ in outcomes)\n",
    "        assert isinstance(parents, tuple)\n",
    "        assert isinstance(pmf_array, np.ndarray)\n",
    "        keys = tuple(map(tuple, itertools.product(*[_.outcomes for _ in parents])))\n",
    "        assert np.allclose(np.sum(pmf_array, 0), 1)\n",
    "        expected_shape = (len(outcomes), len(keys))\n",
    "        assert pmf_array.shape == expected_shape, (pmf_array.shape, expected_shape)\n",
    "        pmfs = {k: {outcome: probability for outcome, probability in zip(outcomes, probabilities)} \n",
    "                for k, probabilities in zip(keys, pmf_array.T)}\n",
    "        self.name, self.parents, self.outcomes, self.pmfs = name, parents, outcomes, pmfs\n",
    "\n",
    "class BayesianNetwork(object):\n",
    "    def __init__(self, *random_variables):\n",
    "        assert all(isinstance(_, RandomVariable) for _ in random_variables)\n",
    "        self.random_variables = random_variables\n",
    "        \n",
    "region_pmf_array = np.array([[0.2, 0.1, 0.5, 0.2]]).T\n",
    "region = RandomVariable(\n",
    "    name='region',\n",
    "    parents=tuple(),\n",
    "    outcomes=('north', 'south', 'east', 'west'), \n",
    "    pmf_array = region_pmf_array,\n",
    ")\n",
    "\n",
    "gender_pmf_array = np.array([[0.3, 0.7]]).T\n",
    "gender = RandomVariable(\n",
    "    name='gender',\n",
    "    parents=tuple(),\n",
    "    outcomes=('male', 'female'), \n",
    "    pmf_array = gender_pmf_array\n",
    ")\n",
    "\n",
    "hand_pmf_array = np.array([[0.9, 0.1]]).T\n",
    "hand = RandomVariable(\n",
    "    name='hand',\n",
    "    parents=tuple(),\n",
    "    outcomes=('left', 'right'), \n",
    "    pmf_array = hand_pmf_array\n",
    ")\n",
    "\n",
    "jacket_pmf_array = np.array(\n",
    "        [\n",
    "            [0.9,0.8,0.1,0.3,0.4,0.01,0.02,0.2],\n",
    "            [0.08,0.17,0.03,0.35,0.05,0.01,0.2,0.08],\n",
    "            [0.02,0.03,0.87,0.35,0.55,0.98,0.78,0.72],\n",
    "        ]\n",
    "    )\n",
    "jacket = RandomVariable(\n",
    "    name='jacket',\n",
    "    parents=(region, gender),\n",
    "    outcomes=('full', 'part', 'never'), \n",
    "    pmf_array = jacket_pmf_array\n",
    ")\n",
    "\n",
    "age_pmf_array = np.array(\n",
    "        [\n",
    "            [0.01,0.96,0.3],\n",
    "            [0.98,0.03,0.5],\n",
    "            [0.01,0.01,0.2],\n",
    "        ]\n",
    "    )\n",
    "age = RandomVariable(\n",
    "    name='age',\n",
    "    parents=(jacket, ),\n",
    "    outcomes=('new', 'worn', 'old'), \n",
    "    pmf_array = age_pmf_array\n",
    ")\n",
    "\n",
    "colour_pmf_array = np.array(\n",
    "        [\n",
    "            [0.9,0.83,0.17,0.3],\n",
    "            [0.1,0.17,0.83,0.7],\n",
    "        ]\n",
    "    )\n",
    "\n",
    "colour = RandomVariable(\n",
    "    name='colour',\n",
    "    parents=(gender, hand),\n",
    "    outcomes=('black', 'white'),\n",
    "    pmf_array = colour_pmf_array\n",
    ")\n",
    "\n",
    "vote = RandomVariable(\n",
    "    name='vote',\n",
    "    parents=(region, age, colour),\n",
    "    outcomes=vote_outcomes,\n",
    "    pmf_array = vote_pmf_array\n",
    ")\n",
    "\n",
    "\n",
    "election_model = BayesianNetwork(region, gender, hand, jacket, age, colour, vote)"
   ]
  },
  {
   "cell_type": "markdown",
   "metadata": {},
   "source": [
    "### 1A (1 mark) Joint distribution of a subset\n",
    "\n",
    "- Compute the joint distribution of **Jacket**, **Region** and **Gender**. Print in a tab separated format the resulting distribution."
   ]
  },
  {
   "cell_type": "code",
   "execution_count": 6,
   "metadata": {
    "collapsed": false
   },
   "outputs": [
    {
     "name": "stdout",
     "output_type": "stream",
     "text": [
      "J \t R \t G \t Probability\n",
      "full\tnorth\tmale\t0.054\n",
      "full\tnorth\tfemale\t0.112\n",
      "full\tsouth\tmale\t0.003\n",
      "full\tsouth\tfemale\t0.021\n",
      "full\teast\tmale\t0.06\n",
      "full\teast\tfemale\t0.0035\n",
      "full\twest\tmale\t0.0012\n",
      "full\twest\tfemale\t0.028\n",
      "part\tnorth\tmale\t0.0048\n",
      "part\tnorth\tfemale\t0.0238\n",
      "part\tsouth\tmale\t0.0009\n",
      "part\tsouth\tfemale\t0.0245\n",
      "part\teast\tmale\t0.0075\n",
      "part\teast\tfemale\t0.0035\n",
      "part\twest\tmale\t0.012\n",
      "part\twest\tfemale\t0.0112\n",
      "never\tnorth\tmale\t0.0012\n",
      "never\tnorth\tfemale\t0.0042\n",
      "never\tsouth\tmale\t0.0261\n",
      "never\tsouth\tfemale\t0.0245\n",
      "never\teast\tmale\t0.0825\n",
      "never\teast\tfemale\t0.343\n",
      "never\twest\tmale\t0.0468\n",
      "never\twest\tfemale\t0.1008\n"
     ]
    }
   ],
   "source": [
    "# Traverse nodes\n",
    "print('J \\t R \\t G \\t Probability')\n",
    "for jo in jacket.outcomes:\n",
    "    for ro in region.outcomes:\n",
    "        for go in gender.outcomes:\n",
    "            p = jacket.pmfs[(ro,go)][jo]*region.pmfs[()][ro]*gender.pmfs[()][go]\n",
    "            print('{}\\t{}\\t{}\\t{:.6}'.format(jo,ro,go,p))"
   ]
  },
  {
   "cell_type": "markdown",
   "metadata": {},
   "source": [
    "### 1B1 (2 marks) Variable Ordering\n",
    "\n",
    "1. Implement a function which determines an appropriate ordering of the variables for use in the following scheme:\n",
    "    - For the first node R, draw a sample from p(R).\n",
    "    - For each subsequent node, draw a sample from the conditional distribution $p(X \\,|\\, \\text{parents}(X))$ where $\\text{parents}(X)$ are the parents of the variable $X$ in the graphical model.\n",
    "- Use your function to compute such an ordering and print the result in a human friendly format."
   ]
  },
  {
   "cell_type": "code",
   "execution_count": 7,
   "metadata": {
    "collapsed": false
   },
   "outputs": [
    {
     "name": "stdout",
     "output_type": "stream",
     "text": [
      "The generated ordering is:\n",
      "region gender hand jacket age colour vote "
     ]
    }
   ],
   "source": [
    "# Determines an ordering\n",
    "def ordering(network):\n",
    "    done = [] # Save points contained in the ordering\n",
    "    npoints = len(network.random_variables) # The number of points\n",
    "    print(\"The generated ordering is:\")\n",
    "    \n",
    "    # Traverse the network\n",
    "    for rv in network.random_variables:\n",
    "        \n",
    "        # All points are in the ordering\n",
    "        if len(done) == npoints:\n",
    "            break\n",
    "        \n",
    "        # Precedents must be in the ordering\n",
    "        if all(rvp in done for rvp in rv.parents):\n",
    "            print(rv.name,end=\" \")\n",
    "            done.append(rv)\n",
    "\n",
    "    return done\n",
    "\n",
    "# Test\n",
    "ordering = ordering(election_model)"
   ]
  },
  {
   "cell_type": "markdown",
   "metadata": {},
   "source": [
    "### 1B2 (2 marks) Sampling\n",
    "\n",
    "1. Given the ordering you have determined above, implement the sampler described in the previous question. If you were unable to compute the ordering in the previous question, use ``ordering = (hand, region, gender, colour, jacket, age, vote)``.\n",
    "2. Draw a single sample and print the result in a human friendly format."
   ]
  },
  {
   "cell_type": "code",
   "execution_count": 15,
   "metadata": {
    "collapsed": false
   },
   "outputs": [
    {
     "name": "stdout",
     "output_type": "stream",
     "text": [
      "Ordering:  ['region', 'gender', 'hand', 'jacket', 'age', 'colour', 'vote']\n",
      "\n",
      "Samples\n",
      "id\tregion\tgender\thand\tjacket\tage\tcolour\tvote\n",
      "1\twest\tfemale\tleft\tnever\told\twhite\tbernie\t\n"
     ]
    }
   ],
   "source": [
    "# Draw a sample from a distribution\n",
    "# \n",
    "#   pmfs: an array representing a probability mass function\n",
    "def sampling(pmfs):\n",
    "    k = np.random.uniform();\n",
    "    sumOfP = 0;\n",
    "    \n",
    "    for key in pmfs:\n",
    "        sumOfP = sumOfP + pmfs[key]\n",
    "        if sumOfP>k:\n",
    "            label = key\n",
    "            break\n",
    "    \n",
    "    return label\n",
    "\n",
    "# Sampling with previously determined ordering\n",
    "# \n",
    "#   ordering: an array containing random variables\n",
    "#   nsamples: sampling times\n",
    "def simpleSampler(ordering, nsamples):\n",
    "    samples = dict()\n",
    "    for i in range(nsamples):\n",
    "        sample = dict()\n",
    "        for rv in ordering:\n",
    "            p = () # Save parents\n",
    "            for rvp in rv.parents:\n",
    "                p = p + (sample[rvp],)\n",
    "            sample[rv]=sampling(rv.pmfs[p])\n",
    "        samples[i] = sample\n",
    "    return samples\n",
    "\n",
    "# Test\n",
    "nsample = 1\n",
    "res = simpleSampler(ordering,nsample)\n",
    "print('Ordering: ', [ rv.name for rv in ordering])\n",
    "print('\\nSamples')\n",
    "print('id\\t{}\\t{}\\t{}\\t{}\\t{}\\t{}\\t{}'.format(ordering[0].name,ordering[1].name,ordering[2].name,ordering[3].name,\\\n",
    "                                              ordering[4].name,ordering[5].name,ordering[6].name))\n",
    "for i in range(nsample):\n",
    "    print(i+1,end='\\t')\n",
    "    sample = {}\n",
    "    for rv in res[i]:\n",
    "        print(res[i][rv], end='\\t')\n",
    "    print()\n",
    "    "
   ]
  },
  {
   "cell_type": "markdown",
   "metadata": {},
   "source": [
    "### 1B3 (2 marks) Marginals\n",
    "\n",
    "1. Calculate (and show in LaTeX) the marginal distribution for **Jacket**.\n",
    "- Implement a function which computes the marginal distribution of each variable. It should make use of the ordering used by your sampler.\n",
    "- Implement a function which takes a list of samples the model and computes the empirical marginal distribution of each variable.\n",
    "- Plot the theoretical and approximate marginals which you obtain along with the absolute percent error between the two, in the format below:"
   ]
  },
  {
   "cell_type": "raw",
   "metadata": {},
   "source": [
    "region\n",
    "outcome\texact\tapprox\terror (%)\n",
    "north\t0.20\t0.20\t0.4\n",
    "south\t0.10\t0.10\t0.1\n",
    "east\t0.50\t0.50\t0.4\n",
    "west\t0.20\t0.20\t0.6\n",
    "\n",
    "gender\n",
    "outcome\texact\tapprox\terror (%)\n",
    "male\t0.30\t0.30\t0.1\n",
    "female\t0.70\t0.70\t0.0\n",
    "\n",
    "etc."
   ]
  },
  {
   "cell_type": "markdown",
   "metadata": {},
   "source": [
    "1. Calculate the marginal distribution for Jacket:\n",
    "    \\begin{align}\n",
    "    P(J=full) &= \\sum_{r,g} P(J=full,R=r,G=g) \\\\\n",
    "    &= \\sum_{r,g} P(J=full | R=r, G=g)P(R=r,G=g) \\\\\n",
    "    &= \\sum_{r,g} P(J=full|R=r,G=g)P(R=r)P(G=g)\\\\\n",
    "    &= 0.2\\times0.3\\times0.9  + 0.2\\times0.7\\times0.8 + 0.1\\times0.3\\times0.1 + \\\\\n",
    "    &\\,\\,\\,\\,\\,\\,\\,\\,0.1\\times0.7\\times0.3 + 0.5\\times0.3\\times0.4  + 0.5\\times0.7\\times0.01 +\\\\\n",
    "    &\\,\\,\\,\\,\\,\\,\\,\\,0.2\\times0.3\\times0.02  + 0.2\\times0.7\\times0.2\\\\\n",
    "    &= 0.2827\n",
    "    \\end{align}\n",
    "    Similarly, we calculate $P(J=part)$ and $P(J=never)$:\n",
    "    $$\n",
    "        P(J=part) = 0.0882\\\\\n",
    "        P(J=never) = 0.6291\n",
    "    $$"
   ]
  },
  {
   "cell_type": "code",
   "execution_count": 10,
   "metadata": {
    "collapsed": false
   },
   "outputs": [
    {
     "name": "stdout",
     "output_type": "stream",
     "text": [
      "region\n",
      "outcome exact approx error (%)\n",
      "north\t0.20\t0.20\t0.98\t\n",
      "south\t0.10\t0.10\t0.25\t\n",
      "east\t0.50\t0.50\t0.02\t\n",
      "west\t0.20\t0.20\t0.80\t\n",
      "\n",
      "gender\n",
      "outcome exact approx error (%)\n",
      "male\t0.30\t0.30\t0.10\t\n",
      "female\t0.70\t0.70\t0.04\t\n",
      "\n",
      "hand\n",
      "outcome exact approx error (%)\n",
      "left\t0.90\t0.90\t0.26\t\n",
      "right\t0.10\t0.10\t2.35\t\n",
      "\n",
      "jacket\n",
      "outcome exact approx error (%)\n",
      "full\t0.28\t0.28\t0.65\t\n",
      "part\t0.09\t0.09\t0.96\t\n",
      "never\t0.63\t0.63\t0.43\t\n",
      "\n",
      "age\n",
      "outcome exact approx error (%)\n",
      "new\t0.28\t0.28\t0.17\t\n",
      "worn\t0.59\t0.60\t0.86\t\n",
      "old\t0.13\t0.12\t3.57\t\n",
      "\n",
      "colour\n",
      "outcome exact approx error (%)\n",
      "black\t0.40\t0.40\t0.01\t\n",
      "white\t0.60\t0.60\t0.01\t\n",
      "\n",
      "vote\n",
      "outcome exact approx error (%)\n",
      "bernie\t0.15\t0.16\t4.61\t\n",
      "donald\t0.35\t0.34\t0.69\t\n",
      "hillary\t0.30\t0.30\t0.44\t\n",
      "ted\t0.20\t0.20\t2.96\t\n",
      "\n"
     ]
    }
   ],
   "source": [
    "# Calculate the marginal distribution of an variable\n",
    "# \n",
    "#   randomVariable: a random variable\n",
    "# Note: create a new copy of a dictionary each time; otherwise, the old one\n",
    "#       will be changed\n",
    "# \n",
    "# * Iteratively calculating mariginal distribution *\n",
    "# import copy\n",
    "# def marginalDistribution(randomVariable):\n",
    "#     if len(randomVariable.parents) == 0:\n",
    "#         return copy.deepcopy(randomVariable.pmfs) \n",
    "    \n",
    "#     tmpPmfs = copy.deepcopy(randomVariable.pmfs)\n",
    "\n",
    "#     # Joint probabilities\n",
    "#     for condition in tmpPmfs:\n",
    "#         for ii in range(len(condition)):\n",
    "#             parentPmfs = marginalDistribution(randomVariable.parents[ii])\n",
    "#             for key in tmpPmfs[condition]:\n",
    "#                 tmpPmfs[condition][key] = tmpPmfs[condition][key]*parentPmfs[()][condition[ii]] # product of probabilities\n",
    "\n",
    "#     # Adding joint probabilities to get marginal distributions\n",
    "#     resPmfs = dict()\n",
    "#     resPmfs[()] = dict()\n",
    "#     tmpPmfsArrays = [ list(v.values()) for v in tmpPmfs.values()]\n",
    "#     for ii in range(len(randomVariable.outcomes)):\n",
    "#         resPmfs[()][randomVariable.outcomes[ii]] = sum([row[ii] for row in tmpPmfsArrays])\n",
    "#     return resPmfs\n",
    "\n",
    "import copy\n",
    "def marginalDistribution(ordering):\n",
    "    \n",
    "    resPmfs = dict()\n",
    "    for randomVariable in ordering:\n",
    "        if len(randomVariable.parents) == 0:\n",
    "            resPmfs[randomVariable] = randomVariable.pmfs[()]\n",
    "\n",
    "        tmpPmfs = dict()\n",
    "        # Traverse the ordering\n",
    "        for rv in ordering:\n",
    "            if len(tmpPmfs) == 0:\n",
    "                tmpPmfs = copy.deepcopy(rv.pmfs)\n",
    "            else:\n",
    "                if len(rv.pmfs) == 1:\n",
    "                    tmpPmfs2 = dict()\n",
    "                    tmpPmfs2[()] = dict()\n",
    "\n",
    "                    # Joint probabilities\n",
    "                    for key in tmpPmfs[()]:\n",
    "                        for key2 in rv.pmfs[()]:\n",
    "                            if isinstance(key,tuple):\n",
    "                                tmpPmfs2[()][key+(key2,)] = tmpPmfs[()][key]*rv.pmfs[()][key2]\n",
    "                            else:\n",
    "                                tmpPmfs2[()][(key,key2)] = tmpPmfs[()][key]*rv.pmfs[()][key2]\n",
    "                    tmpPmfs = copy.deepcopy(tmpPmfs2)\n",
    "                else:\n",
    "                     if len(rv.pmfs) >1:\n",
    "                        tmpPmfs2 = dict()\n",
    "                        tmpPmfs2[()] = dict()\n",
    "\n",
    "                        # Joint probabilities\n",
    "                        for condition in rv.pmfs:\n",
    "                            for key in rv.pmfs[condition]:\n",
    "                                for key2 in tmpPmfs[()]:\n",
    "                                    if all( t in key2 for t in condition):\n",
    "                                        tmpPmfs2[()][key2+(key,)] = tmpPmfs2[()].get(key2+(key,),0)+\\\n",
    "                                        tmpPmfs[()][key2]*rv.pmfs[condition][key]\n",
    "                        tmpPmfs = copy.deepcopy(tmpPmfs2)\n",
    "            if rv == randomVariable:\n",
    "                break\n",
    "\n",
    "        # Marginal probabilities\n",
    "        resPmfs[randomVariable] = dict()\n",
    "        for label in randomVariable.outcomes:\n",
    "            for value in tmpPmfs[()]:\n",
    "                if label in value:\n",
    "                    resPmfs[randomVariable][label] = resPmfs[randomVariable].get(label,0) + tmpPmfs[()][value]\n",
    "    return resPmfs\n",
    "\n",
    "# Calculate empirical marginal distribution\n",
    "def empiricalMarginalDistribution(samples):\n",
    "    res = dict()\n",
    "    randomVariables = samples[1].keys()\n",
    "    for randomVariable in randomVariables:\n",
    "        res[randomVariable] = dict()\n",
    "        for label in randomVariable.outcomes:\n",
    "            p = np.mean([samples[i][randomVariable] == label for i in samples])\n",
    "            res[randomVariable][label] = p\n",
    "    return res\n",
    "\n",
    "# # Test\n",
    "pmfs = marginalDistribution(ordering)\n",
    "\n",
    "nsample = 20000\n",
    "samples = simpleSampler(ordering,nsample)\n",
    "pmfs2 = empiricalMarginalDistribution(samples)\n",
    "\n",
    "# Plot errors\n",
    "for rv in pmfs2:\n",
    "    print(rv.name)\n",
    "    print('outcome exact approx error (%)')\n",
    "    for key in pmfs2[rv]:\n",
    "        print(key,end='\\t')\n",
    "        print('%.2f'%(pmfs[rv][key]),end='\\t')\n",
    "        print('%.2f'%(pmfs2[rv][key]),end = '\\t')\n",
    "        print('%.2f'%(abs(pmfs2[rv][key]-pmfs[rv][key])*100/pmfs[rv][key]),end='\\t')\n",
    "        print()\n",
    "    print()"
   ]
  },
  {
   "cell_type": "markdown",
   "metadata": {},
   "source": [
    "### 1B4 (1 mark) Easy conditional probabilities\n",
    "\n",
    "Compute $p(X \\,|\\, G=\\text{female})$ for all $X$ other than $G$,\n",
    "1. Approximately, using your sampler\n",
    "- Exactly, using your marginal calculating function from the previous question. Hint: what happens if you set  $p(G=\\text{female})=1$ in your model?\n",
    "- Plot the results side by side in the same format as the previous question.\n",
    "- State for which variables other than $G$ the theoretical scheme above can be used to compute such conditionals, and why."
   ]
  },
  {
   "cell_type": "code",
   "execution_count": 11,
   "metadata": {
    "collapsed": false
   },
   "outputs": [
    {
     "name": "stdout",
     "output_type": "stream",
     "text": [
      "region\n",
      "outcome exact approx error (%)\n",
      "north\t0.20\t0.20\t0.51\t\n",
      "south\t0.10\t0.10\t0.74\t\n",
      "east\t0.50\t0.50\t0.11\t\n",
      "west\t0.20\t0.20\t0.15\t\n",
      "\n",
      "hand\n",
      "outcome exact approx error (%)\n",
      "left\t0.90\t0.90\t0.27\t\n",
      "right\t0.10\t0.10\t2.47\t\n",
      "\n",
      "jacket\n",
      "outcome exact approx error (%)\n",
      "full\t0.24\t0.24\t0.78\t\n",
      "part\t0.09\t0.09\t0.92\t\n",
      "never\t0.68\t0.67\t0.15\t\n",
      "\n",
      "age\n",
      "outcome exact approx error (%)\n",
      "new\t0.29\t0.29\t1.62\t\n",
      "worn\t0.57\t0.58\t1.97\t\n",
      "old\t0.14\t0.13\t4.72\t\n",
      "\n",
      "colour\n",
      "outcome exact approx error (%)\n",
      "black\t0.18\t0.18\t0.24\t\n",
      "white\t0.82\t0.82\t0.05\t\n",
      "\n",
      "vote\n",
      "outcome exact approx error (%)\n",
      "bernie\t0.13\t0.14\t4.11\t\n",
      "donald\t0.39\t0.39\t0.18\t\n",
      "hillary\t0.27\t0.27\t1.33\t\n",
      "ted\t0.21\t0.20\t3.95\t\n",
      "\n"
     ]
    }
   ],
   "source": [
    "# Solution goes here\n",
    "# Calculate empirical marginal distribution\n",
    "def empiricalProbabilities(samples):\n",
    "    res = dict()\n",
    "    randomVariables = [ k for k in samples[1].keys() if k != gender]\n",
    "    for randomVariable in randomVariables:\n",
    "        res[randomVariable] = dict()\n",
    "        for label in randomVariable.outcomes:\n",
    "            p = np.mean([samples[i][randomVariable]==label for i in samples if samples[i][gender]=='female'])\n",
    "            res[randomVariable][label] = p\n",
    "    return res\n",
    "\n",
    "pmfs2 = empiricalProbabilities(samples)\n",
    "\n",
    "tmpOrdering = copy.deepcopy(ordering)\n",
    "tmpOrdering[ordering.index(gender)].pmfs[()] = {'male':0,'female':1}\n",
    "pmfs = marginalDistribution(tmpOrdering)\n",
    "\n",
    "# Plot errors\n",
    "for rv in pmfs2:\n",
    "    print(rv.name)\n",
    "    print('outcome exact approx error (%)')\n",
    "    for key in pmfs2[rv]:\n",
    "        print(key,end='\\t')\n",
    "        print('%.2f'%(pmfs[tmpOrdering[ordering.index(rv)]][key]),end='\\t')\n",
    "        print('%.2f'%(pmfs2[rv][key]),end = '\\t')\n",
    "        print('%.2f'%(abs(pmfs2[rv][key]-pmfs[tmpOrdering[ordering.index(rv)]][key])*100\\\n",
    "                      /pmfs[tmpOrdering[ordering.index(rv)]][key]),end='\\t')\n",
    "        print()\n",
    "    print()"
   ]
  },
  {
   "cell_type": "markdown",
   "metadata": {},
   "source": [
    "4.\n",
    "\\begin{align}\n",
    "p(X\\mid G=female) = \\dfrac{p(X,G=female)}{p(G=female)}\n",
    "\\end{align}\n",
    "According to the graphical network, we can rewrite $p(X,G=female)$ to $Ap(G=female)$ where A is with respect to probabilities of variables other than $G$. $p(G=female)$ can be removed from the probability expression because\n",
    "$$\n",
    "\\dfrac{p(X,G=female)}{p(G=female)}=\\dfrac{Ap(G=female)}{p(G=female)}=A\n",
    "$$\n",
    "Therefore, we can replace $p(G=female)$ with 1. Based on this analysis, the variables other than $G$ can be processed in the same way are $H$ and $R$.\n"
   ]
  },
  {
   "cell_type": "markdown",
   "metadata": {},
   "source": [
    "### 1B5 (3 marks) General conditional probabilities\n",
    "\n",
    "1. Write down the expression of the joint probability $p(R,G,H,J,A,C,V)$ in terms of the conditional probabilities in the graphical model.\n",
    "- Derive $p(G = male \\,|\\, V = Donald)$ in terms of the conditional probabilities of the graphical model.\n",
    "- Compute and display in a human friendly format the conditional distributions $p(G=g \\,|\\, V=v)$ for all genders $g$ and votes $v$, by naively marginalising the other variables (other than $G$ and $V$, that is)."
   ]
  },
  {
   "cell_type": "markdown",
   "metadata": {
    "collapsed": true
   },
   "source": [
    "### Solution description"
   ]
  },
  {
   "cell_type": "markdown",
   "metadata": {
    "collapsed": false
   },
   "source": [
    "1. According to the graphical model, we can write \n",
    "   $$\n",
    "   p(R,G,H,J,A,C,V) = p(R)p(G)p(H)p(J|R,G)p(A|J)p(C|G,H)p(V|R,A,C)\n",
    "   $$\n",
    "2. Derive $p(G = male | V = Donald)$:\n",
    "   \\begin{align}\n",
    "   &p(G = male | V = Donald)\\\\\n",
    "   &= \\dfrac{P(G = male, V = Donald)}{P(V = Donald)}\\\\\n",
    "   &= \\dfrac{\\sum_{r,h,j,a,c}P(R=r, G =male, H=h,J=j,A=a,C=c, V = Donald)}{p(V=Donald)}\\\\\n",
    "   &= \\dfrac{\\sum_{r,h,j,a,c}p(G=male)p(R=r)p(H=h)p(J=j|R=r,G=male)p(A=a|J=j)p(C=c|G=male,H=h)p(V=Donald|R=r,A=a,C=c)}{p(V=Donald)}\\\\\n",
    "   \\end{align}\n",
    "3. \n",
    "   \n",
    " "
   ]
  },
  {
   "cell_type": "code",
   "execution_count": 12,
   "metadata": {
    "collapsed": false
   },
   "outputs": [
    {
     "name": "stdout",
     "output_type": "stream",
     "text": [
      " P(G|V) \t V=bernie \t V=donald \t V=hillary \t V=ted\n",
      " G=male       0.398132990181\t0.214321628636\t0.363555529929\t0.278437575417\t\n",
      " G=female       0.601867009819\t0.785678371364\t0.636444470071\t0.721562424583\t\n"
     ]
    }
   ],
   "source": [
    "# Marginal distribution\n",
    "pmfs = marginalDistribution(ordering)\n",
    "\n",
    "# Traverse nodes and naively marginalising other variable\n",
    "print(' P(G|V) \\t V=bernie \\t V=donald \\t V=hillary \\t V=ted')\n",
    "for go in gender.outcomes:\n",
    "    print(' G={}'.format(go),end='       ')\n",
    "    for vo in vote.outcomes:\n",
    "        p = 0\n",
    "        for co in colour.outcomes:\n",
    "            for ao in age.outcomes:\n",
    "                for jo in jacket.outcomes:\n",
    "                    for ho in hand.outcomes:\n",
    "                        for ro in region.outcomes:\n",
    "                            p = p + vote.pmfs[(ro,ao,co)][vo]*colour.pmfs[(go,ho)][co]*age.pmfs[(jo,)][ao]*\\\n",
    "                            jacket.pmfs[(ro,go)][jo]*hand.pmfs[()][ho]*region.pmfs[()][ro]\n",
    "        print(p*gender.pmfs[()][go]/pmfs[vote][vo],end='\\t')\n",
    "    print()"
   ]
  },
  {
   "cell_type": "markdown",
   "metadata": {},
   "source": [
    "### 1B6 (2 marks) Variable elimination\n",
    "\n",
    "Denote the graphical model consider thus far $\\mathcal{M}$.\n",
    "\n",
    "1. Derive $p(R,G,J,A,C,V)$ by marginalising over $H$ in $\\mathcal{M}$. \n",
    "- Describe how the structure (connectivity) of the new graphical model (call it $\\mathcal{M}_H$) over all variables other than $H$ changes after eliminating $H$ in this way.\n",
    "- Describe which conditional(s) in the new graphical model differ from the original model.\n",
    "- Encode the $\\mathcal{M}_H$ in python similarly to $\\mathcal{M}$. "
   ]
  },
  {
   "cell_type": "markdown",
   "metadata": {
    "collapsed": true
   },
   "source": [
    "# Solution goes here\n",
    "1. \\begin{align}\n",
    "    p(R,G,J,A,C,V) &= \\sum_{h} p(R,G,H=h,J,A,C,V)\\\\\n",
    "    &= \\sum_{h} p(R) p(G) p(H=h) p(J|R,G) P(A|J)P(C|G,H=h)p(V|R,A,C)\\\\\n",
    "    &= P(C|G) p(R) p(G) p(J|R,G) P(A|J)p(V|R,A,C)\\\\\n",
    "    \\end{align}\n",
    "2. Eliminating H will remove the edge H->C and the node H in the graph. As a result, the node C is only connected with the node G.\n",
    "3. The original $p(C|G,H)$ is changed to $p(C|G)$."
   ]
  },
  {
   "cell_type": "code",
   "execution_count": 13,
   "metadata": {
    "collapsed": false
   },
   "outputs": [],
   "source": [
    "new_colour_pmf_array = np.array(\n",
    "        [\n",
    "            [0.837,0.287],\n",
    "            [0.163,0.713],\n",
    "        ]\n",
    "    )\n",
    "\n",
    "newColour = RandomVariable(\n",
    "    name='colour',\n",
    "    parents=(gender,),\n",
    "    outcomes=('black', 'white'),\n",
    "    pmf_array = new_colour_pmf_array\n",
    ")\n",
    "\n",
    "newElectionModel = BayesianNetwork(region, gender, jacket, age, newColour, vote)"
   ]
  },
  {
   "cell_type": "markdown",
   "metadata": {},
   "source": [
    "### 1B6 (3 marks) General estimation of conditional probabilities (revisited)\n",
    "\n",
    "1. As you did earlier, compute and display in a human friendly format the conditional distributions $p(G=g \\,|\\, V=v)$ for all genders $g$ and votes $v$, by naively marginalising the other variables (other than $G$ and $V$, that is). This time however, do so using $\\mathcal{M}_H$ rather than $\\mathcal{M}$.\n",
    "- Quantify the computational advantages of using $\\mathcal{M}_H$ in this way rather than $\\mathcal{M}$.\n",
    "- Which variable (or variables) would be the best to eliminate in this way, in terms of the aforementioned computational advantages, and why?\n",
    "- Pick a (best) variable from the previous question and call it $X$. Assuming we have eliminated $X$, which would be the \"best\" variable to subsequently eliminate in a similar fashion?"
   ]
  },
  {
   "cell_type": "code",
   "execution_count": 14,
   "metadata": {
    "collapsed": false
   },
   "outputs": [
    {
     "name": "stdout",
     "output_type": "stream",
     "text": [
      " P(G|V) \t V=bernie \t V=donald \t V=hillary \t V=ted\n",
      " G=male       0.386966515123\t0.224886022999\t0.355459620934\t0.280764474703\t\n",
      " G=female       0.650579151422\t0.747814637263\t0.667545158544\t0.703639017822\t\n"
     ]
    }
   ],
   "source": [
    "# Traverse nodes and naively marginalising other variable\n",
    "print(' P(G|V) \\t V=bernie \\t V=donald \\t V=hillary \\t V=ted')\n",
    "for go in gender.outcomes:\n",
    "    print(' G={}'.format(go),end='       ')\n",
    "    for vo in vote.outcomes:\n",
    "        p = 0\n",
    "        for co in newColour.outcomes:\n",
    "            for ao in age.outcomes:\n",
    "                for jo in jacket.outcomes:\n",
    "                    for ro in region.outcomes:\n",
    "                        p = p + vote.pmfs[(ro,ao,co)][vo]*newColour.pmfs[(go,)][co]*age.pmfs[(jo,)][ao]*\\\n",
    "                        jacket.pmfs[(ro,go)][jo]*region.pmfs[()][ro]\n",
    "        print(p*gender.pmfs[()][go]/pmfs[vote][vo],end='\\t')\n",
    "    print()"
   ]
  },
  {
   "cell_type": "markdown",
   "metadata": {},
   "source": [
    "2.The computational complexity of $p(G=g \\mid V=v)$ on $M_H$ are quantified by the number of summations and multiplications in maginalizing variables. For $M$, the number of outcomes of variable marginalized (R, H, J, A and C) are 4, 2, 3, 3 and 2 so there are $4\\times2\\times3\\times3\\times2-1=143$ summations. Besides, to compute each joint probability, there are 6 multiplications. Thus, the total number of operations are $143+144*6 = 1007$.\n",
    "For $M_H$, we marginalize variables $R,J,A,C$ which leads to $4\\times3\\times3\\times2-1=71$ summations. Each joint probability requires 5 multiplications. So the total number of operations are $71+72\\times5=431$. The latter is only $431/1007\\times 100\\%=42.8\\%$ of the former.\n",
    "\n",
    "3.The best variable to eliminate is $G$ because $G$ has the most outcomes and eliminating it can reduce the operations to $2\\times3\\times3\\times2\\times4 = 144$, which is the least operation we can get.\n"
   ]
  },
  {
   "cell_type": "markdown",
   "metadata": {},
   "source": [
    "## Part 2: Theory"
   ]
  },
  {
   "cell_type": "markdown",
   "metadata": {},
   "source": [
    "### 2A (3 marks) Functions of random variables\n",
    "\n",
    "$u$ and $v$ are independently sampled from the standard uniform distribution on the unit interval, $[0,1]$. \n",
    "\n",
    "If $s=(2u-1)^2+(2v-1)^2 \\geq 1$ then $x$ is sampled from the standard normal distribution, $\\mathcal{N}(0,1)$. Otherwise $x=(2u-1)\\sqrt{-2 \\log(s)/s}$.\n",
    "\n",
    "How is $x$ distributed?"
   ]
  },
  {
   "cell_type": "markdown",
   "metadata": {},
   "source": [
    "### Solution description\n",
    "Because $u,v \\in [0,1]$, we get $2u-1,2v-1 \\in [-1,1]$. Sampling a pair of $u,v$ is equivalent to sampling a point in the square $\\{(u',v')| u'=2u-1 \\in [-1,1], v'=2v-1 \\in [-1,1]\\}$ and $s$ represents the squared distance between a point and origin.\n",
    "\n",
    "The probability mass function of $x$ can be computed as:\n",
    "$$\n",
    "p(x) = \\int_{s\\geq 1} p(x\\mid s)p(s)ds+\\int_{0\\leq s<1}p(x\\mid s)p(s)\\,ds\n",
    "$$\n",
    "Firstly, we compute the first part $\\int_{s\\geq 1} p(x\\mid s)p(s)ds$:\n",
    "\\begin{align}\n",
    "\\int_{s\\geq 1} p(x\\mid s)p(s)ds &= p(x \\mid s\\geq 1) \\int_{s\\geq 1} p(s)ds\\\\\n",
    "&= p(x \\mid s\\geq 1) \\int_{s\\geq 1} p(s)ds\\\\\n",
    "& =  p(x \\mid s\\geq 1)\\,\\dfrac{Area(\\{(u',v')|u'\\in [-1,1], v'\\in [-1,1], u'^2+v'^2 \\geq 1 \\})}{Area(\\{(u',v')|u'\\in [-1,1], v'\\in [-1,1]\\})}\\\\\n",
    "& = p(x \\mid s\\geq 1) \\dfrac{4-\\pi}{4}\\\\\n",
    "& = \\dfrac{4-\\pi}{4} \\dfrac{1}{\\sqrt{2\\pi}} \\exp^{-\\dfrac{x^2}{2}}\n",
    "\\end{align}\n",
    "\"Area$(\\{(u',v')|u'\\in [-1,1], v'\\in [-1,1], u'^2+v'^2 \\geq 1 \\})$\" denotes the area in the square where we sample the points $\\{(u',v')| u'\\in [-1,1], v'\\in [-1,1]\\}$ and out of the circle $\\{(u',v')|u'^2+v'^2=1\\}$. \"Area$(\\{(u',v')|u'\\in [-1,1], v'\\in [-1,1] \\})$\" is explained similarly.\n",
    "\n",
    "Secondly, we calculate $\\int_{0\\leq s<1}p(x\\mid s)p(s)\\,ds$:\n",
    "\\begin{align}\n",
    "\\int_{0\\leq s<1}p(x\\mid s)p(s)\\,ds &= \\int_{0\\leq s<1} p(x\\mid s)\\dfrac{d\\,P(S\\leq s)}{ds}\\,ds\\\\\n",
    "&= \\int_{0\\leq s<1} p(x\\mid s)\\dfrac{\\pi}{4}\\,ds\\\\\n",
    "\\end{align}\n",
    "\n",
    "Only when $ \\sqrt{s} \\leq \\dfrac{x}{\\sqrt{-2log(s)/s}} \\leq \\sqrt{s}$, i.e, $s \\leq e^{-x^2/2}$, the probability density function is non-zero. So, we get:\n",
    "\n",
    "\\begin{align}\n",
    "&\\int_{0\\leq s<1} p(x\\mid s)\\dfrac{\\pi}{4}\\,ds\\\\\n",
    "& = \\int_{0\\leq s \\leq e^{-x^2/2}} p(x\\mid s)\\dfrac{\\pi}{4}\\,ds\\\\\n",
    "& = \\int_{0\\leq s \\leq e^{-x^2/2}} p(u'=x/\\sqrt{-2log(s)/s}\\mid s)/\\sqrt{-2log(s)/s}\\dfrac{\\pi}{4}\\,ds\n",
    "\\end{align}\n",
    "Here, $p(u'=x/\\sqrt{-2log(s)/s}\\mid s)$ is the probability density function of the x coordinate of samples uniformly distributed on the circle with the radius of $\\sqrt{s}$. So $p(u'=x/\\sqrt{-2log(s)/s}\\mid s)$ should be equal to the fraction of the length of the arches with the x coordinates of $x/\\sqrt{-2log(s)/s}$ over the perimeter of the circle.\n",
    "\\begin{align}\n",
    "&\\int_{0\\leq s \\leq e^{-x^2/2}} p(u'=x/\\sqrt{-2log(s)/s}\\mid s)/\\sqrt{-2log(s)/s}\\dfrac{\\pi}{4}\\,ds\\\\\n",
    "& = \\int_{0\\leq s \\leq e^{-x^2/2}} \\dfrac{\\sqrt{1+u'^2/(s-u'^2)}}{\\pi \\sqrt{s}\\sqrt{-2log(s)/s}}\\dfrac{\\pi}{4}\\,ds\\\\\n",
    "& = \\int_{0\\leq s \\leq e^{-x^2/2}} \\dfrac{\\sqrt{s/(s-u'^2)}}{4\\sqrt{-2log(s)}}\\,ds\\\\\n",
    "& = \\int_{0\\leq s \\leq e^{-x^2/2}} \\dfrac{1}{4 \\sqrt{-2log(s)-x^2}} \\,ds\n",
    "\\end{align}\n",
    "\n",
    "\n",
    "By using http://www.wolframalpha.com, we get $\\int \\dfrac{1}{4 \\sqrt{-2log(s)-x^2}}ds = \\dfrac{1}{4}\\sqrt{\\pi/2}(-e^{-x^2/2})erf[\\sqrt{-x^2/2-log(s)}]+constant$ so \n",
    "\\begin{align}\n",
    "&\\int_{0\\leq s \\leq e^{-x^2/2}} \\dfrac{1}{4 \\sqrt{-2log(s)-x^2}}ds \\\\\n",
    "&= \\dfrac{1}{4}\\sqrt{\\pi/2}(-e^{-x^2/2})erf[\\sqrt{-x^2/2-(-x^2/2)}]-\\dfrac{1}{4}\\sqrt{\\pi/2}(-e^{-x^2/2})erf[\\sqrt{-x^2/2-log(0)}]\\\\\n",
    "&=\\dfrac{1}{4}\\sqrt{\\pi/2}e^{-x^2/2}\n",
    "\\end{align}\n",
    "\n",
    "Finally, we get:\n",
    "$$\n",
    "p(x) = \\int_{s\\geq 1} p(x\\mid s)p(s)ds+\\int_{0\\leq s<1}p(x\\mid s)p(s)\\,ds = \\dfrac{4-\\pi}{4} \\dfrac{1}{\\sqrt{2\\pi}} e^{-x^2/2}+\\dfrac{1}{4}\\sqrt{\\pi/2}e^{-x^2/2} = \\dfrac{1}{\\sqrt{2\\pi}}e^{-x^2/2}\n",
    "$$"
   ]
  },
  {
   "cell_type": "code",
   "execution_count": null,
   "metadata": {
    "collapsed": true
   },
   "outputs": [],
   "source": []
  }
 ],
 "metadata": {
  "kernelspec": {
   "display_name": "Python 3",
   "language": "python",
   "name": "python3"
  },
  "language_info": {
   "codemirror_mode": {
    "name": "ipython",
    "version": 3
   },
   "file_extension": ".py",
   "mimetype": "text/x-python",
   "name": "python",
   "nbconvert_exporter": "python",
   "pygments_lexer": "ipython3",
   "version": "3.6.0"
  }
 },
 "nbformat": 4,
 "nbformat_minor": 0
}
